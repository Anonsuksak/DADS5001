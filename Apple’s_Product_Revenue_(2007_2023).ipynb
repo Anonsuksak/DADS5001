{
  "cells": [
    {
      "cell_type": "markdown",
      "metadata": {
        "id": "view-in-github",
        "colab_type": "text"
      },
      "source": [
        "<a href=\"https://colab.research.google.com/github/Anonsuksak/DADS5001/blob/main/Apple%E2%80%99s_Product_Revenue_(2007_2023).ipynb\" target=\"_parent\"><img src=\"https://colab.research.google.com/assets/colab-badge.svg\" alt=\"Open In Colab\"/></a>"
      ]
    },
    {
      "cell_type": "code",
      "execution_count": null,
      "id": "1ed5630f",
      "metadata": {
        "id": "1ed5630f"
      },
      "outputs": [],
      "source": [
        "import pandas as pd"
      ]
    },
    {
      "cell_type": "markdown",
      "id": "2a6f7611",
      "metadata": {
        "id": "2a6f7611"
      },
      "source": [
        "## Step 1 get data"
      ]
    },
    {
      "cell_type": "code",
      "execution_count": null,
      "id": "8c551927",
      "metadata": {
        "id": "8c551927",
        "outputId": "215ab41c-08cd-4df7-c062-a0a8272d70b3"
      },
      "outputs": [
        {
          "data": {
            "text/html": [
              "<div>\n",
              "<style scoped>\n",
              "    .dataframe tbody tr th:only-of-type {\n",
              "        vertical-align: middle;\n",
              "    }\n",
              "\n",
              "    .dataframe tbody tr th {\n",
              "        vertical-align: top;\n",
              "    }\n",
              "\n",
              "    .dataframe thead th {\n",
              "        text-align: right;\n",
              "    }\n",
              "</style>\n",
              "<table border=\"1\" class=\"dataframe\">\n",
              "  <thead>\n",
              "    <tr style=\"text-align: right;\">\n",
              "      <th></th>\n",
              "      <th>Apple Revenue</th>\n",
              "      <th>iPhone</th>\n",
              "      <th>Accessories</th>\n",
              "      <th>Mac</th>\n",
              "      <th>iPad</th>\n",
              "      <th>iPod</th>\n",
              "      <th>Services</th>\n",
              "    </tr>\n",
              "  </thead>\n",
              "  <tbody>\n",
              "    <tr>\n",
              "      <th>0</th>\n",
              "      <td>2007</td>\n",
              "      <td>$0.1B</td>\n",
              "      <td>$1.2B</td>\n",
              "      <td>$10.3B</td>\n",
              "      <td>-</td>\n",
              "      <td>$8.3B</td>\n",
              "      <td>$4.0B</td>\n",
              "    </tr>\n",
              "    <tr>\n",
              "      <th>1</th>\n",
              "      <td>2008</td>\n",
              "      <td>$1.8B</td>\n",
              "      <td>$1.6B</td>\n",
              "      <td>$14.2B</td>\n",
              "      <td>-</td>\n",
              "      <td>$9.1B</td>\n",
              "      <td>$5.5B</td>\n",
              "    </tr>\n",
              "    <tr>\n",
              "      <th>2</th>\n",
              "      <td>2009</td>\n",
              "      <td>$13.0B</td>\n",
              "      <td>$1.4B</td>\n",
              "      <td>$13.8B</td>\n",
              "      <td>-</td>\n",
              "      <td>$8.0B</td>\n",
              "      <td>$6.4B</td>\n",
              "    </tr>\n",
              "    <tr>\n",
              "      <th>3</th>\n",
              "      <td>2010</td>\n",
              "      <td>$25.2B</td>\n",
              "      <td>$1.8B</td>\n",
              "      <td>$17.5B</td>\n",
              "      <td>$4.9B</td>\n",
              "      <td>$8.3B</td>\n",
              "      <td>$7.5B</td>\n",
              "    </tr>\n",
              "    <tr>\n",
              "      <th>4</th>\n",
              "      <td>2011</td>\n",
              "      <td>$47.0B</td>\n",
              "      <td>$2.3B</td>\n",
              "      <td>$21.8B</td>\n",
              "      <td>$20.4B</td>\n",
              "      <td>$7.4B</td>\n",
              "      <td>$9.7B</td>\n",
              "    </tr>\n",
              "    <tr>\n",
              "      <th>5</th>\n",
              "      <td>2012</td>\n",
              "      <td>$80.5B</td>\n",
              "      <td>$2.8B</td>\n",
              "      <td>$23.2B</td>\n",
              "      <td>$32.4B</td>\n",
              "      <td>$5.6B</td>\n",
              "      <td>$11.9B</td>\n",
              "    </tr>\n",
              "    <tr>\n",
              "      <th>6</th>\n",
              "      <td>2013</td>\n",
              "      <td>$91.8B</td>\n",
              "      <td>$5.7B</td>\n",
              "      <td>$21.5B</td>\n",
              "      <td>$31.9B</td>\n",
              "      <td>$4.4B</td>\n",
              "      <td>$16.0B</td>\n",
              "    </tr>\n",
              "    <tr>\n",
              "      <th>7</th>\n",
              "      <td>2014</td>\n",
              "      <td>$101.9B</td>\n",
              "      <td>$6.1B</td>\n",
              "      <td>$24.1B</td>\n",
              "      <td>$30.3B</td>\n",
              "      <td>$2.3B</td>\n",
              "      <td>$18.1B</td>\n",
              "    </tr>\n",
              "    <tr>\n",
              "      <th>8</th>\n",
              "      <td>2015</td>\n",
              "      <td>$155.0B</td>\n",
              "      <td>$10.1B</td>\n",
              "      <td>$25.5B</td>\n",
              "      <td>$23.2B</td>\n",
              "      <td>-</td>\n",
              "      <td>$19.9B</td>\n",
              "    </tr>\n",
              "    <tr>\n",
              "      <th>9</th>\n",
              "      <td>2016</td>\n",
              "      <td>$136.7B</td>\n",
              "      <td>$11.1B</td>\n",
              "      <td>$22.8B</td>\n",
              "      <td>$20.7B</td>\n",
              "      <td>-</td>\n",
              "      <td>$24.5B</td>\n",
              "    </tr>\n",
              "    <tr>\n",
              "      <th>10</th>\n",
              "      <td>2017</td>\n",
              "      <td>$141.3B</td>\n",
              "      <td>$12.9B</td>\n",
              "      <td>$25.8B</td>\n",
              "      <td>$19.2B</td>\n",
              "      <td>-</td>\n",
              "      <td>$29.9B</td>\n",
              "    </tr>\n",
              "    <tr>\n",
              "      <th>11</th>\n",
              "      <td>2018</td>\n",
              "      <td>$166.7B</td>\n",
              "      <td>$17.4B</td>\n",
              "      <td>$25.5B</td>\n",
              "      <td>$18.8B</td>\n",
              "      <td>-</td>\n",
              "      <td>$37.1B</td>\n",
              "    </tr>\n",
              "    <tr>\n",
              "      <th>12</th>\n",
              "      <td>2019</td>\n",
              "      <td>$142.3B</td>\n",
              "      <td>$24.5B</td>\n",
              "      <td>$25.7B</td>\n",
              "      <td>$21.2B</td>\n",
              "      <td>-</td>\n",
              "      <td>$46.3B</td>\n",
              "    </tr>\n",
              "    <tr>\n",
              "      <th>13</th>\n",
              "      <td>2020</td>\n",
              "      <td>$137.8B</td>\n",
              "      <td>$30.6B</td>\n",
              "      <td>$28.6B</td>\n",
              "      <td>$23.7B</td>\n",
              "      <td>-</td>\n",
              "      <td>$53.7B</td>\n",
              "    </tr>\n",
              "    <tr>\n",
              "      <th>14</th>\n",
              "      <td>2021</td>\n",
              "      <td>$191.9B</td>\n",
              "      <td>$38.4B</td>\n",
              "      <td>$35.1B</td>\n",
              "      <td>$31.9B</td>\n",
              "      <td>-</td>\n",
              "      <td>$68.4B</td>\n",
              "    </tr>\n",
              "    <tr>\n",
              "      <th>15</th>\n",
              "      <td>2022</td>\n",
              "      <td>$205.5B</td>\n",
              "      <td>$41.2B</td>\n",
              "      <td>$40.2B</td>\n",
              "      <td>$29.3B</td>\n",
              "      <td>-</td>\n",
              "      <td>$78.1B</td>\n",
              "    </tr>\n",
              "    <tr>\n",
              "      <th>16</th>\n",
              "      <td>2023</td>\n",
              "      <td>$200.6B</td>\n",
              "      <td>$39.8B</td>\n",
              "      <td>$29.3B</td>\n",
              "      <td>$28.3B</td>\n",
              "      <td>-</td>\n",
              "      <td>$85.2B</td>\n",
              "    </tr>\n",
              "  </tbody>\n",
              "</table>\n",
              "</div>"
            ],
            "text/plain": [
              "    Apple Revenue   iPhone Accessories     Mac    iPad   iPod Services\n",
              "0            2007    $0.1B       $1.2B  $10.3B       -  $8.3B    $4.0B\n",
              "1            2008    $1.8B       $1.6B  $14.2B       -  $9.1B    $5.5B\n",
              "2            2009   $13.0B       $1.4B  $13.8B       -  $8.0B    $6.4B\n",
              "3            2010   $25.2B       $1.8B  $17.5B   $4.9B  $8.3B    $7.5B\n",
              "4            2011   $47.0B       $2.3B  $21.8B  $20.4B  $7.4B    $9.7B\n",
              "5            2012   $80.5B       $2.8B  $23.2B  $32.4B  $5.6B   $11.9B\n",
              "6            2013   $91.8B       $5.7B  $21.5B  $31.9B  $4.4B   $16.0B\n",
              "7            2014  $101.9B       $6.1B  $24.1B  $30.3B  $2.3B   $18.1B\n",
              "8            2015  $155.0B      $10.1B  $25.5B  $23.2B      -   $19.9B\n",
              "9            2016  $136.7B      $11.1B  $22.8B  $20.7B      -   $24.5B\n",
              "10           2017  $141.3B      $12.9B  $25.8B  $19.2B      -   $29.9B\n",
              "11           2018  $166.7B      $17.4B  $25.5B  $18.8B      -   $37.1B\n",
              "12           2019  $142.3B      $24.5B  $25.7B  $21.2B      -   $46.3B\n",
              "13           2020  $137.8B      $30.6B  $28.6B  $23.7B      -   $53.7B\n",
              "14           2021  $191.9B      $38.4B  $35.1B  $31.9B      -   $68.4B\n",
              "15           2022  $205.5B      $41.2B  $40.2B  $29.3B      -   $78.1B\n",
              "16           2023  $200.6B      $39.8B  $29.3B  $28.3B      -   $85.2B"
            ]
          },
          "execution_count": 2,
          "metadata": {},
          "output_type": "execute_result"
        }
      ],
      "source": [
        "df = pd.read_excel('Apple’s Product Revenue (2007-2023).xlsx')\n",
        "df"
      ]
    },
    {
      "cell_type": "markdown",
      "id": "a83722c4",
      "metadata": {
        "id": "a83722c4"
      },
      "source": [
        "- data source: https://www.visualcapitalist.com/charted-apples-product-revenue-2007-2023/"
      ]
    },
    {
      "cell_type": "markdown",
      "id": "f659ed2a",
      "metadata": {
        "id": "f659ed2a"
      },
      "source": [
        "## Step 2 data cleansing"
      ]
    },
    {
      "cell_type": "code",
      "execution_count": null,
      "id": "046666ee",
      "metadata": {
        "id": "046666ee",
        "outputId": "0d688013-29f6-4195-b1da-4659baa6bff6"
      },
      "outputs": [
        {
          "name": "stderr",
          "output_type": "stream",
          "text": [
            "/var/folders/kn/8gjhms0n1pngh9vl05r8zqg80000gn/T/ipykernel_13083/3965309995.py:4: FutureWarning: The default value of regex will change from True to False in a future version. In addition, single character regular expressions will *not* be treated as literal strings when regex=True.\n",
            "  df[column] = df[column].str.replace(\"$\", \"\").str.replace(\"B\", \"\").str.replace(\"-\", \"0.0\")\n"
          ]
        }
      ],
      "source": [
        "columns_to_clean = ['iPhone', 'Accessories', 'Mac', 'iPad', 'iPod', 'Services']\n",
        "\n",
        "for column in columns_to_clean:\n",
        "    df[column] = df[column].str.replace(\"$\", \"\").str.replace(\"B\", \"\").str.replace(\"-\", \"0.0\")"
      ]
    },
    {
      "cell_type": "code",
      "execution_count": null,
      "id": "c1a302a8",
      "metadata": {
        "scrolled": false,
        "id": "c1a302a8",
        "outputId": "4987facd-b74f-4606-da6b-2fbc13236ff4"
      },
      "outputs": [
        {
          "data": {
            "text/html": [
              "<div>\n",
              "<style scoped>\n",
              "    .dataframe tbody tr th:only-of-type {\n",
              "        vertical-align: middle;\n",
              "    }\n",
              "\n",
              "    .dataframe tbody tr th {\n",
              "        vertical-align: top;\n",
              "    }\n",
              "\n",
              "    .dataframe thead th {\n",
              "        text-align: right;\n",
              "    }\n",
              "</style>\n",
              "<table border=\"1\" class=\"dataframe\">\n",
              "  <thead>\n",
              "    <tr style=\"text-align: right;\">\n",
              "      <th></th>\n",
              "      <th>iPhone</th>\n",
              "      <th>Accessories</th>\n",
              "      <th>Mac</th>\n",
              "      <th>iPad</th>\n",
              "      <th>iPod</th>\n",
              "      <th>Services</th>\n",
              "    </tr>\n",
              "    <tr>\n",
              "      <th>Apple Revenue</th>\n",
              "      <th></th>\n",
              "      <th></th>\n",
              "      <th></th>\n",
              "      <th></th>\n",
              "      <th></th>\n",
              "      <th></th>\n",
              "    </tr>\n",
              "  </thead>\n",
              "  <tbody>\n",
              "    <tr>\n",
              "      <th>2007</th>\n",
              "      <td>0.1</td>\n",
              "      <td>1.2</td>\n",
              "      <td>10.3</td>\n",
              "      <td>0.0</td>\n",
              "      <td>8.3</td>\n",
              "      <td>4.0</td>\n",
              "    </tr>\n",
              "    <tr>\n",
              "      <th>2008</th>\n",
              "      <td>1.8</td>\n",
              "      <td>1.6</td>\n",
              "      <td>14.2</td>\n",
              "      <td>0.0</td>\n",
              "      <td>9.1</td>\n",
              "      <td>5.5</td>\n",
              "    </tr>\n",
              "    <tr>\n",
              "      <th>2009</th>\n",
              "      <td>13.0</td>\n",
              "      <td>1.4</td>\n",
              "      <td>13.8</td>\n",
              "      <td>0.0</td>\n",
              "      <td>8.0</td>\n",
              "      <td>6.4</td>\n",
              "    </tr>\n",
              "    <tr>\n",
              "      <th>2010</th>\n",
              "      <td>25.2</td>\n",
              "      <td>1.8</td>\n",
              "      <td>17.5</td>\n",
              "      <td>4.9</td>\n",
              "      <td>8.3</td>\n",
              "      <td>7.5</td>\n",
              "    </tr>\n",
              "    <tr>\n",
              "      <th>2011</th>\n",
              "      <td>47.0</td>\n",
              "      <td>2.3</td>\n",
              "      <td>21.8</td>\n",
              "      <td>20.4</td>\n",
              "      <td>7.4</td>\n",
              "      <td>9.7</td>\n",
              "    </tr>\n",
              "    <tr>\n",
              "      <th>2012</th>\n",
              "      <td>80.5</td>\n",
              "      <td>2.8</td>\n",
              "      <td>23.2</td>\n",
              "      <td>32.4</td>\n",
              "      <td>5.6</td>\n",
              "      <td>11.9</td>\n",
              "    </tr>\n",
              "    <tr>\n",
              "      <th>2013</th>\n",
              "      <td>91.8</td>\n",
              "      <td>5.7</td>\n",
              "      <td>21.5</td>\n",
              "      <td>31.9</td>\n",
              "      <td>4.4</td>\n",
              "      <td>16.0</td>\n",
              "    </tr>\n",
              "    <tr>\n",
              "      <th>2014</th>\n",
              "      <td>101.9</td>\n",
              "      <td>6.1</td>\n",
              "      <td>24.1</td>\n",
              "      <td>30.3</td>\n",
              "      <td>2.3</td>\n",
              "      <td>18.1</td>\n",
              "    </tr>\n",
              "    <tr>\n",
              "      <th>2015</th>\n",
              "      <td>155.0</td>\n",
              "      <td>10.1</td>\n",
              "      <td>25.5</td>\n",
              "      <td>23.2</td>\n",
              "      <td>0.0</td>\n",
              "      <td>19.9</td>\n",
              "    </tr>\n",
              "    <tr>\n",
              "      <th>2016</th>\n",
              "      <td>136.7</td>\n",
              "      <td>11.1</td>\n",
              "      <td>22.8</td>\n",
              "      <td>20.7</td>\n",
              "      <td>0.0</td>\n",
              "      <td>24.5</td>\n",
              "    </tr>\n",
              "    <tr>\n",
              "      <th>2017</th>\n",
              "      <td>141.3</td>\n",
              "      <td>12.9</td>\n",
              "      <td>25.8</td>\n",
              "      <td>19.2</td>\n",
              "      <td>0.0</td>\n",
              "      <td>29.9</td>\n",
              "    </tr>\n",
              "    <tr>\n",
              "      <th>2018</th>\n",
              "      <td>166.7</td>\n",
              "      <td>17.4</td>\n",
              "      <td>25.5</td>\n",
              "      <td>18.8</td>\n",
              "      <td>0.0</td>\n",
              "      <td>37.1</td>\n",
              "    </tr>\n",
              "    <tr>\n",
              "      <th>2019</th>\n",
              "      <td>142.3</td>\n",
              "      <td>24.5</td>\n",
              "      <td>25.7</td>\n",
              "      <td>21.2</td>\n",
              "      <td>0.0</td>\n",
              "      <td>46.3</td>\n",
              "    </tr>\n",
              "    <tr>\n",
              "      <th>2020</th>\n",
              "      <td>137.8</td>\n",
              "      <td>30.6</td>\n",
              "      <td>28.6</td>\n",
              "      <td>23.7</td>\n",
              "      <td>0.0</td>\n",
              "      <td>53.7</td>\n",
              "    </tr>\n",
              "    <tr>\n",
              "      <th>2021</th>\n",
              "      <td>191.9</td>\n",
              "      <td>38.4</td>\n",
              "      <td>35.1</td>\n",
              "      <td>31.9</td>\n",
              "      <td>0.0</td>\n",
              "      <td>68.4</td>\n",
              "    </tr>\n",
              "    <tr>\n",
              "      <th>2022</th>\n",
              "      <td>205.5</td>\n",
              "      <td>41.2</td>\n",
              "      <td>40.2</td>\n",
              "      <td>29.3</td>\n",
              "      <td>0.0</td>\n",
              "      <td>78.1</td>\n",
              "    </tr>\n",
              "    <tr>\n",
              "      <th>2023</th>\n",
              "      <td>200.6</td>\n",
              "      <td>39.8</td>\n",
              "      <td>29.3</td>\n",
              "      <td>28.3</td>\n",
              "      <td>0.0</td>\n",
              "      <td>85.2</td>\n",
              "    </tr>\n",
              "  </tbody>\n",
              "</table>\n",
              "</div>"
            ],
            "text/plain": [
              "              iPhone Accessories   Mac  iPad iPod Services\n",
              "Apple Revenue                                             \n",
              "2007             0.1         1.2  10.3   0.0  8.3      4.0\n",
              "2008             1.8         1.6  14.2   0.0  9.1      5.5\n",
              "2009            13.0         1.4  13.8   0.0  8.0      6.4\n",
              "2010            25.2         1.8  17.5   4.9  8.3      7.5\n",
              "2011            47.0         2.3  21.8  20.4  7.4      9.7\n",
              "2012            80.5         2.8  23.2  32.4  5.6     11.9\n",
              "2013            91.8         5.7  21.5  31.9  4.4     16.0\n",
              "2014           101.9         6.1  24.1  30.3  2.3     18.1\n",
              "2015           155.0        10.1  25.5  23.2  0.0     19.9\n",
              "2016           136.7        11.1  22.8  20.7  0.0     24.5\n",
              "2017           141.3        12.9  25.8  19.2  0.0     29.9\n",
              "2018           166.7        17.4  25.5  18.8  0.0     37.1\n",
              "2019           142.3        24.5  25.7  21.2  0.0     46.3\n",
              "2020           137.8        30.6  28.6  23.7  0.0     53.7\n",
              "2021           191.9        38.4  35.1  31.9  0.0     68.4\n",
              "2022           205.5        41.2  40.2  29.3  0.0     78.1\n",
              "2023           200.6        39.8  29.3  28.3  0.0     85.2"
            ]
          },
          "execution_count": 4,
          "metadata": {},
          "output_type": "execute_result"
        }
      ],
      "source": [
        "df2 = df.set_index(\"Apple Revenue\")\n",
        "df2"
      ]
    },
    {
      "cell_type": "code",
      "execution_count": null,
      "id": "88027d0c",
      "metadata": {
        "id": "88027d0c",
        "outputId": "3f3bdf72-9c0f-4f58-f8fa-44ff4c2b1b76"
      },
      "outputs": [
        {
          "name": "stdout",
          "output_type": "stream",
          "text": [
            "<class 'pandas.core.frame.DataFrame'>\n",
            "Int64Index: 17 entries, 2007 to 2023\n",
            "Data columns (total 6 columns):\n",
            " #   Column       Non-Null Count  Dtype \n",
            "---  ------       --------------  ----- \n",
            " 0   iPhone       17 non-null     object\n",
            " 1   Accessories  17 non-null     object\n",
            " 2   Mac          17 non-null     object\n",
            " 3   iPad         17 non-null     object\n",
            " 4   iPod         17 non-null     object\n",
            " 5   Services     17 non-null     object\n",
            "dtypes: object(6)\n",
            "memory usage: 952.0+ bytes\n"
          ]
        }
      ],
      "source": [
        "df2.info()"
      ]
    },
    {
      "cell_type": "code",
      "execution_count": null,
      "id": "a584a652",
      "metadata": {
        "id": "a584a652"
      },
      "outputs": [],
      "source": [
        "columns_to_clean = ['iPhone', 'Accessories', 'Mac', 'iPad', 'iPod', 'Services']\n",
        "\n",
        "for column in columns_to_clean:\n",
        "    df2[column] = df2[column].astype(float)"
      ]
    },
    {
      "cell_type": "code",
      "execution_count": null,
      "id": "d86a9ca4",
      "metadata": {
        "scrolled": true,
        "id": "d86a9ca4",
        "outputId": "fa82ebdd-5feb-4b7d-b414-24e75ffd3a3d"
      },
      "outputs": [
        {
          "data": {
            "text/html": [
              "<div>\n",
              "<style scoped>\n",
              "    .dataframe tbody tr th:only-of-type {\n",
              "        vertical-align: middle;\n",
              "    }\n",
              "\n",
              "    .dataframe tbody tr th {\n",
              "        vertical-align: top;\n",
              "    }\n",
              "\n",
              "    .dataframe thead th {\n",
              "        text-align: right;\n",
              "    }\n",
              "</style>\n",
              "<table border=\"1\" class=\"dataframe\">\n",
              "  <thead>\n",
              "    <tr style=\"text-align: right;\">\n",
              "      <th></th>\n",
              "      <th>iPhone</th>\n",
              "      <th>Accessories</th>\n",
              "      <th>Mac</th>\n",
              "      <th>iPad</th>\n",
              "      <th>iPod</th>\n",
              "      <th>Services</th>\n",
              "    </tr>\n",
              "    <tr>\n",
              "      <th>Apple Revenue</th>\n",
              "      <th></th>\n",
              "      <th></th>\n",
              "      <th></th>\n",
              "      <th></th>\n",
              "      <th></th>\n",
              "      <th></th>\n",
              "    </tr>\n",
              "  </thead>\n",
              "  <tbody>\n",
              "    <tr>\n",
              "      <th>2007</th>\n",
              "      <td>0.1</td>\n",
              "      <td>1.2</td>\n",
              "      <td>10.3</td>\n",
              "      <td>0.0</td>\n",
              "      <td>8.3</td>\n",
              "      <td>4.0</td>\n",
              "    </tr>\n",
              "    <tr>\n",
              "      <th>2008</th>\n",
              "      <td>1.8</td>\n",
              "      <td>1.6</td>\n",
              "      <td>14.2</td>\n",
              "      <td>0.0</td>\n",
              "      <td>9.1</td>\n",
              "      <td>5.5</td>\n",
              "    </tr>\n",
              "    <tr>\n",
              "      <th>2009</th>\n",
              "      <td>13.0</td>\n",
              "      <td>1.4</td>\n",
              "      <td>13.8</td>\n",
              "      <td>0.0</td>\n",
              "      <td>8.0</td>\n",
              "      <td>6.4</td>\n",
              "    </tr>\n",
              "    <tr>\n",
              "      <th>2010</th>\n",
              "      <td>25.2</td>\n",
              "      <td>1.8</td>\n",
              "      <td>17.5</td>\n",
              "      <td>4.9</td>\n",
              "      <td>8.3</td>\n",
              "      <td>7.5</td>\n",
              "    </tr>\n",
              "    <tr>\n",
              "      <th>2011</th>\n",
              "      <td>47.0</td>\n",
              "      <td>2.3</td>\n",
              "      <td>21.8</td>\n",
              "      <td>20.4</td>\n",
              "      <td>7.4</td>\n",
              "      <td>9.7</td>\n",
              "    </tr>\n",
              "    <tr>\n",
              "      <th>2012</th>\n",
              "      <td>80.5</td>\n",
              "      <td>2.8</td>\n",
              "      <td>23.2</td>\n",
              "      <td>32.4</td>\n",
              "      <td>5.6</td>\n",
              "      <td>11.9</td>\n",
              "    </tr>\n",
              "    <tr>\n",
              "      <th>2013</th>\n",
              "      <td>91.8</td>\n",
              "      <td>5.7</td>\n",
              "      <td>21.5</td>\n",
              "      <td>31.9</td>\n",
              "      <td>4.4</td>\n",
              "      <td>16.0</td>\n",
              "    </tr>\n",
              "    <tr>\n",
              "      <th>2014</th>\n",
              "      <td>101.9</td>\n",
              "      <td>6.1</td>\n",
              "      <td>24.1</td>\n",
              "      <td>30.3</td>\n",
              "      <td>2.3</td>\n",
              "      <td>18.1</td>\n",
              "    </tr>\n",
              "    <tr>\n",
              "      <th>2015</th>\n",
              "      <td>155.0</td>\n",
              "      <td>10.1</td>\n",
              "      <td>25.5</td>\n",
              "      <td>23.2</td>\n",
              "      <td>0.0</td>\n",
              "      <td>19.9</td>\n",
              "    </tr>\n",
              "    <tr>\n",
              "      <th>2016</th>\n",
              "      <td>136.7</td>\n",
              "      <td>11.1</td>\n",
              "      <td>22.8</td>\n",
              "      <td>20.7</td>\n",
              "      <td>0.0</td>\n",
              "      <td>24.5</td>\n",
              "    </tr>\n",
              "    <tr>\n",
              "      <th>2017</th>\n",
              "      <td>141.3</td>\n",
              "      <td>12.9</td>\n",
              "      <td>25.8</td>\n",
              "      <td>19.2</td>\n",
              "      <td>0.0</td>\n",
              "      <td>29.9</td>\n",
              "    </tr>\n",
              "    <tr>\n",
              "      <th>2018</th>\n",
              "      <td>166.7</td>\n",
              "      <td>17.4</td>\n",
              "      <td>25.5</td>\n",
              "      <td>18.8</td>\n",
              "      <td>0.0</td>\n",
              "      <td>37.1</td>\n",
              "    </tr>\n",
              "    <tr>\n",
              "      <th>2019</th>\n",
              "      <td>142.3</td>\n",
              "      <td>24.5</td>\n",
              "      <td>25.7</td>\n",
              "      <td>21.2</td>\n",
              "      <td>0.0</td>\n",
              "      <td>46.3</td>\n",
              "    </tr>\n",
              "    <tr>\n",
              "      <th>2020</th>\n",
              "      <td>137.8</td>\n",
              "      <td>30.6</td>\n",
              "      <td>28.6</td>\n",
              "      <td>23.7</td>\n",
              "      <td>0.0</td>\n",
              "      <td>53.7</td>\n",
              "    </tr>\n",
              "    <tr>\n",
              "      <th>2021</th>\n",
              "      <td>191.9</td>\n",
              "      <td>38.4</td>\n",
              "      <td>35.1</td>\n",
              "      <td>31.9</td>\n",
              "      <td>0.0</td>\n",
              "      <td>68.4</td>\n",
              "    </tr>\n",
              "    <tr>\n",
              "      <th>2022</th>\n",
              "      <td>205.5</td>\n",
              "      <td>41.2</td>\n",
              "      <td>40.2</td>\n",
              "      <td>29.3</td>\n",
              "      <td>0.0</td>\n",
              "      <td>78.1</td>\n",
              "    </tr>\n",
              "    <tr>\n",
              "      <th>2023</th>\n",
              "      <td>200.6</td>\n",
              "      <td>39.8</td>\n",
              "      <td>29.3</td>\n",
              "      <td>28.3</td>\n",
              "      <td>0.0</td>\n",
              "      <td>85.2</td>\n",
              "    </tr>\n",
              "  </tbody>\n",
              "</table>\n",
              "</div>"
            ],
            "text/plain": [
              "               iPhone  Accessories   Mac  iPad  iPod  Services\n",
              "Apple Revenue                                                 \n",
              "2007              0.1          1.2  10.3   0.0   8.3       4.0\n",
              "2008              1.8          1.6  14.2   0.0   9.1       5.5\n",
              "2009             13.0          1.4  13.8   0.0   8.0       6.4\n",
              "2010             25.2          1.8  17.5   4.9   8.3       7.5\n",
              "2011             47.0          2.3  21.8  20.4   7.4       9.7\n",
              "2012             80.5          2.8  23.2  32.4   5.6      11.9\n",
              "2013             91.8          5.7  21.5  31.9   4.4      16.0\n",
              "2014            101.9          6.1  24.1  30.3   2.3      18.1\n",
              "2015            155.0         10.1  25.5  23.2   0.0      19.9\n",
              "2016            136.7         11.1  22.8  20.7   0.0      24.5\n",
              "2017            141.3         12.9  25.8  19.2   0.0      29.9\n",
              "2018            166.7         17.4  25.5  18.8   0.0      37.1\n",
              "2019            142.3         24.5  25.7  21.2   0.0      46.3\n",
              "2020            137.8         30.6  28.6  23.7   0.0      53.7\n",
              "2021            191.9         38.4  35.1  31.9   0.0      68.4\n",
              "2022            205.5         41.2  40.2  29.3   0.0      78.1\n",
              "2023            200.6         39.8  29.3  28.3   0.0      85.2"
            ]
          },
          "execution_count": 7,
          "metadata": {},
          "output_type": "execute_result"
        }
      ],
      "source": [
        "df2"
      ]
    },
    {
      "cell_type": "code",
      "execution_count": null,
      "id": "1ddc5fb3",
      "metadata": {
        "id": "1ddc5fb3",
        "outputId": "e79dfa73-ea1e-4af4-8ab2-060632020fa8"
      },
      "outputs": [
        {
          "data": {
            "text/html": [
              "<div>\n",
              "<style scoped>\n",
              "    .dataframe tbody tr th:only-of-type {\n",
              "        vertical-align: middle;\n",
              "    }\n",
              "\n",
              "    .dataframe tbody tr th {\n",
              "        vertical-align: top;\n",
              "    }\n",
              "\n",
              "    .dataframe thead th {\n",
              "        text-align: right;\n",
              "    }\n",
              "</style>\n",
              "<table border=\"1\" class=\"dataframe\">\n",
              "  <thead>\n",
              "    <tr style=\"text-align: right;\">\n",
              "      <th></th>\n",
              "      <th>iPhone</th>\n",
              "      <th>Accessories</th>\n",
              "      <th>Mac</th>\n",
              "      <th>iPad</th>\n",
              "      <th>iPod</th>\n",
              "      <th>Services</th>\n",
              "      <th>Total Revenue</th>\n",
              "    </tr>\n",
              "    <tr>\n",
              "      <th>Apple Revenue</th>\n",
              "      <th></th>\n",
              "      <th></th>\n",
              "      <th></th>\n",
              "      <th></th>\n",
              "      <th></th>\n",
              "      <th></th>\n",
              "      <th></th>\n",
              "    </tr>\n",
              "  </thead>\n",
              "  <tbody>\n",
              "    <tr>\n",
              "      <th>2007</th>\n",
              "      <td>0.1</td>\n",
              "      <td>1.2</td>\n",
              "      <td>10.3</td>\n",
              "      <td>0.0</td>\n",
              "      <td>8.3</td>\n",
              "      <td>4.0</td>\n",
              "      <td>23.9</td>\n",
              "    </tr>\n",
              "    <tr>\n",
              "      <th>2008</th>\n",
              "      <td>1.8</td>\n",
              "      <td>1.6</td>\n",
              "      <td>14.2</td>\n",
              "      <td>0.0</td>\n",
              "      <td>9.1</td>\n",
              "      <td>5.5</td>\n",
              "      <td>32.2</td>\n",
              "    </tr>\n",
              "    <tr>\n",
              "      <th>2009</th>\n",
              "      <td>13.0</td>\n",
              "      <td>1.4</td>\n",
              "      <td>13.8</td>\n",
              "      <td>0.0</td>\n",
              "      <td>8.0</td>\n",
              "      <td>6.4</td>\n",
              "      <td>42.6</td>\n",
              "    </tr>\n",
              "    <tr>\n",
              "      <th>2010</th>\n",
              "      <td>25.2</td>\n",
              "      <td>1.8</td>\n",
              "      <td>17.5</td>\n",
              "      <td>4.9</td>\n",
              "      <td>8.3</td>\n",
              "      <td>7.5</td>\n",
              "      <td>65.2</td>\n",
              "    </tr>\n",
              "    <tr>\n",
              "      <th>2011</th>\n",
              "      <td>47.0</td>\n",
              "      <td>2.3</td>\n",
              "      <td>21.8</td>\n",
              "      <td>20.4</td>\n",
              "      <td>7.4</td>\n",
              "      <td>9.7</td>\n",
              "      <td>108.6</td>\n",
              "    </tr>\n",
              "    <tr>\n",
              "      <th>2012</th>\n",
              "      <td>80.5</td>\n",
              "      <td>2.8</td>\n",
              "      <td>23.2</td>\n",
              "      <td>32.4</td>\n",
              "      <td>5.6</td>\n",
              "      <td>11.9</td>\n",
              "      <td>156.4</td>\n",
              "    </tr>\n",
              "    <tr>\n",
              "      <th>2013</th>\n",
              "      <td>91.8</td>\n",
              "      <td>5.7</td>\n",
              "      <td>21.5</td>\n",
              "      <td>31.9</td>\n",
              "      <td>4.4</td>\n",
              "      <td>16.0</td>\n",
              "      <td>171.3</td>\n",
              "    </tr>\n",
              "    <tr>\n",
              "      <th>2014</th>\n",
              "      <td>101.9</td>\n",
              "      <td>6.1</td>\n",
              "      <td>24.1</td>\n",
              "      <td>30.3</td>\n",
              "      <td>2.3</td>\n",
              "      <td>18.1</td>\n",
              "      <td>182.8</td>\n",
              "    </tr>\n",
              "    <tr>\n",
              "      <th>2015</th>\n",
              "      <td>155.0</td>\n",
              "      <td>10.1</td>\n",
              "      <td>25.5</td>\n",
              "      <td>23.2</td>\n",
              "      <td>0.0</td>\n",
              "      <td>19.9</td>\n",
              "      <td>233.7</td>\n",
              "    </tr>\n",
              "    <tr>\n",
              "      <th>2016</th>\n",
              "      <td>136.7</td>\n",
              "      <td>11.1</td>\n",
              "      <td>22.8</td>\n",
              "      <td>20.7</td>\n",
              "      <td>0.0</td>\n",
              "      <td>24.5</td>\n",
              "      <td>215.8</td>\n",
              "    </tr>\n",
              "    <tr>\n",
              "      <th>2017</th>\n",
              "      <td>141.3</td>\n",
              "      <td>12.9</td>\n",
              "      <td>25.8</td>\n",
              "      <td>19.2</td>\n",
              "      <td>0.0</td>\n",
              "      <td>29.9</td>\n",
              "      <td>229.1</td>\n",
              "    </tr>\n",
              "    <tr>\n",
              "      <th>2018</th>\n",
              "      <td>166.7</td>\n",
              "      <td>17.4</td>\n",
              "      <td>25.5</td>\n",
              "      <td>18.8</td>\n",
              "      <td>0.0</td>\n",
              "      <td>37.1</td>\n",
              "      <td>265.5</td>\n",
              "    </tr>\n",
              "    <tr>\n",
              "      <th>2019</th>\n",
              "      <td>142.3</td>\n",
              "      <td>24.5</td>\n",
              "      <td>25.7</td>\n",
              "      <td>21.2</td>\n",
              "      <td>0.0</td>\n",
              "      <td>46.3</td>\n",
              "      <td>260.0</td>\n",
              "    </tr>\n",
              "    <tr>\n",
              "      <th>2020</th>\n",
              "      <td>137.8</td>\n",
              "      <td>30.6</td>\n",
              "      <td>28.6</td>\n",
              "      <td>23.7</td>\n",
              "      <td>0.0</td>\n",
              "      <td>53.7</td>\n",
              "      <td>274.4</td>\n",
              "    </tr>\n",
              "    <tr>\n",
              "      <th>2021</th>\n",
              "      <td>191.9</td>\n",
              "      <td>38.4</td>\n",
              "      <td>35.1</td>\n",
              "      <td>31.9</td>\n",
              "      <td>0.0</td>\n",
              "      <td>68.4</td>\n",
              "      <td>365.7</td>\n",
              "    </tr>\n",
              "    <tr>\n",
              "      <th>2022</th>\n",
              "      <td>205.5</td>\n",
              "      <td>41.2</td>\n",
              "      <td>40.2</td>\n",
              "      <td>29.3</td>\n",
              "      <td>0.0</td>\n",
              "      <td>78.1</td>\n",
              "      <td>394.3</td>\n",
              "    </tr>\n",
              "    <tr>\n",
              "      <th>2023</th>\n",
              "      <td>200.6</td>\n",
              "      <td>39.8</td>\n",
              "      <td>29.3</td>\n",
              "      <td>28.3</td>\n",
              "      <td>0.0</td>\n",
              "      <td>85.2</td>\n",
              "      <td>383.2</td>\n",
              "    </tr>\n",
              "  </tbody>\n",
              "</table>\n",
              "</div>"
            ],
            "text/plain": [
              "               iPhone  Accessories   Mac  iPad  iPod  Services  Total Revenue\n",
              "Apple Revenue                                                                \n",
              "2007              0.1          1.2  10.3   0.0   8.3       4.0           23.9\n",
              "2008              1.8          1.6  14.2   0.0   9.1       5.5           32.2\n",
              "2009             13.0          1.4  13.8   0.0   8.0       6.4           42.6\n",
              "2010             25.2          1.8  17.5   4.9   8.3       7.5           65.2\n",
              "2011             47.0          2.3  21.8  20.4   7.4       9.7          108.6\n",
              "2012             80.5          2.8  23.2  32.4   5.6      11.9          156.4\n",
              "2013             91.8          5.7  21.5  31.9   4.4      16.0          171.3\n",
              "2014            101.9          6.1  24.1  30.3   2.3      18.1          182.8\n",
              "2015            155.0         10.1  25.5  23.2   0.0      19.9          233.7\n",
              "2016            136.7         11.1  22.8  20.7   0.0      24.5          215.8\n",
              "2017            141.3         12.9  25.8  19.2   0.0      29.9          229.1\n",
              "2018            166.7         17.4  25.5  18.8   0.0      37.1          265.5\n",
              "2019            142.3         24.5  25.7  21.2   0.0      46.3          260.0\n",
              "2020            137.8         30.6  28.6  23.7   0.0      53.7          274.4\n",
              "2021            191.9         38.4  35.1  31.9   0.0      68.4          365.7\n",
              "2022            205.5         41.2  40.2  29.3   0.0      78.1          394.3\n",
              "2023            200.6         39.8  29.3  28.3   0.0      85.2          383.2"
            ]
          },
          "execution_count": 8,
          "metadata": {},
          "output_type": "execute_result"
        }
      ],
      "source": [
        "df2['Total Revenue'] = df2[['iPhone', 'Accessories', 'Mac', 'iPad', 'iPod', 'Services']].sum(axis=1)\n",
        "df2"
      ]
    },
    {
      "cell_type": "code",
      "execution_count": null,
      "id": "55a818e0",
      "metadata": {
        "id": "55a818e0"
      },
      "outputs": [],
      "source": [
        "columns_to_clean = ['iPhone', 'Accessories', 'Mac', 'iPad', 'iPod', 'Services','Total Revenue']\n",
        "\n",
        "for column in columns_to_clean:\n",
        "    df2[column] = ((df2[column]/df2['Total Revenue'])*100).round(1).astype(float)"
      ]
    },
    {
      "cell_type": "code",
      "execution_count": null,
      "id": "84e519eb",
      "metadata": {
        "scrolled": true,
        "id": "84e519eb",
        "outputId": "49be6056-5778-424a-d863-a4d1874ae12f"
      },
      "outputs": [
        {
          "data": {
            "text/html": [
              "<div>\n",
              "<style scoped>\n",
              "    .dataframe tbody tr th:only-of-type {\n",
              "        vertical-align: middle;\n",
              "    }\n",
              "\n",
              "    .dataframe tbody tr th {\n",
              "        vertical-align: top;\n",
              "    }\n",
              "\n",
              "    .dataframe thead th {\n",
              "        text-align: right;\n",
              "    }\n",
              "</style>\n",
              "<table border=\"1\" class=\"dataframe\">\n",
              "  <thead>\n",
              "    <tr style=\"text-align: right;\">\n",
              "      <th></th>\n",
              "      <th>iPhone</th>\n",
              "      <th>Accessories</th>\n",
              "      <th>Mac</th>\n",
              "      <th>iPad</th>\n",
              "      <th>iPod</th>\n",
              "      <th>Services</th>\n",
              "      <th>Total Revenue</th>\n",
              "    </tr>\n",
              "    <tr>\n",
              "      <th>Apple Revenue</th>\n",
              "      <th></th>\n",
              "      <th></th>\n",
              "      <th></th>\n",
              "      <th></th>\n",
              "      <th></th>\n",
              "      <th></th>\n",
              "      <th></th>\n",
              "    </tr>\n",
              "  </thead>\n",
              "  <tbody>\n",
              "    <tr>\n",
              "      <th>2009</th>\n",
              "      <td>30.5</td>\n",
              "      <td>3.3</td>\n",
              "      <td>32.4</td>\n",
              "      <td>0.0</td>\n",
              "      <td>18.8</td>\n",
              "      <td>15.0</td>\n",
              "      <td>100.0</td>\n",
              "    </tr>\n",
              "    <tr>\n",
              "      <th>2010</th>\n",
              "      <td>38.7</td>\n",
              "      <td>2.8</td>\n",
              "      <td>26.8</td>\n",
              "      <td>7.5</td>\n",
              "      <td>12.7</td>\n",
              "      <td>11.5</td>\n",
              "      <td>100.0</td>\n",
              "    </tr>\n",
              "    <tr>\n",
              "      <th>2011</th>\n",
              "      <td>43.3</td>\n",
              "      <td>2.1</td>\n",
              "      <td>20.1</td>\n",
              "      <td>18.8</td>\n",
              "      <td>6.8</td>\n",
              "      <td>8.9</td>\n",
              "      <td>100.0</td>\n",
              "    </tr>\n",
              "    <tr>\n",
              "      <th>2012</th>\n",
              "      <td>51.5</td>\n",
              "      <td>1.8</td>\n",
              "      <td>14.8</td>\n",
              "      <td>20.7</td>\n",
              "      <td>3.6</td>\n",
              "      <td>7.6</td>\n",
              "      <td>100.0</td>\n",
              "    </tr>\n",
              "    <tr>\n",
              "      <th>2013</th>\n",
              "      <td>53.6</td>\n",
              "      <td>3.3</td>\n",
              "      <td>12.6</td>\n",
              "      <td>18.6</td>\n",
              "      <td>2.6</td>\n",
              "      <td>9.3</td>\n",
              "      <td>100.0</td>\n",
              "    </tr>\n",
              "    <tr>\n",
              "      <th>2014</th>\n",
              "      <td>55.7</td>\n",
              "      <td>3.3</td>\n",
              "      <td>13.2</td>\n",
              "      <td>16.6</td>\n",
              "      <td>1.3</td>\n",
              "      <td>9.9</td>\n",
              "      <td>100.0</td>\n",
              "    </tr>\n",
              "    <tr>\n",
              "      <th>2015</th>\n",
              "      <td>66.3</td>\n",
              "      <td>4.3</td>\n",
              "      <td>10.9</td>\n",
              "      <td>9.9</td>\n",
              "      <td>0.0</td>\n",
              "      <td>8.5</td>\n",
              "      <td>100.0</td>\n",
              "    </tr>\n",
              "    <tr>\n",
              "      <th>2016</th>\n",
              "      <td>63.3</td>\n",
              "      <td>5.1</td>\n",
              "      <td>10.6</td>\n",
              "      <td>9.6</td>\n",
              "      <td>0.0</td>\n",
              "      <td>11.4</td>\n",
              "      <td>100.0</td>\n",
              "    </tr>\n",
              "    <tr>\n",
              "      <th>2017</th>\n",
              "      <td>61.7</td>\n",
              "      <td>5.6</td>\n",
              "      <td>11.3</td>\n",
              "      <td>8.4</td>\n",
              "      <td>0.0</td>\n",
              "      <td>13.1</td>\n",
              "      <td>100.0</td>\n",
              "    </tr>\n",
              "    <tr>\n",
              "      <th>2018</th>\n",
              "      <td>62.8</td>\n",
              "      <td>6.6</td>\n",
              "      <td>9.6</td>\n",
              "      <td>7.1</td>\n",
              "      <td>0.0</td>\n",
              "      <td>14.0</td>\n",
              "      <td>100.0</td>\n",
              "    </tr>\n",
              "    <tr>\n",
              "      <th>2019</th>\n",
              "      <td>54.7</td>\n",
              "      <td>9.4</td>\n",
              "      <td>9.9</td>\n",
              "      <td>8.2</td>\n",
              "      <td>0.0</td>\n",
              "      <td>17.8</td>\n",
              "      <td>100.0</td>\n",
              "    </tr>\n",
              "    <tr>\n",
              "      <th>2020</th>\n",
              "      <td>50.2</td>\n",
              "      <td>11.2</td>\n",
              "      <td>10.4</td>\n",
              "      <td>8.6</td>\n",
              "      <td>0.0</td>\n",
              "      <td>19.6</td>\n",
              "      <td>100.0</td>\n",
              "    </tr>\n",
              "    <tr>\n",
              "      <th>2021</th>\n",
              "      <td>52.5</td>\n",
              "      <td>10.5</td>\n",
              "      <td>9.6</td>\n",
              "      <td>8.7</td>\n",
              "      <td>0.0</td>\n",
              "      <td>18.7</td>\n",
              "      <td>100.0</td>\n",
              "    </tr>\n",
              "    <tr>\n",
              "      <th>2022</th>\n",
              "      <td>52.1</td>\n",
              "      <td>10.4</td>\n",
              "      <td>10.2</td>\n",
              "      <td>7.4</td>\n",
              "      <td>0.0</td>\n",
              "      <td>19.8</td>\n",
              "      <td>100.0</td>\n",
              "    </tr>\n",
              "    <tr>\n",
              "      <th>2023</th>\n",
              "      <td>52.3</td>\n",
              "      <td>10.4</td>\n",
              "      <td>7.6</td>\n",
              "      <td>7.4</td>\n",
              "      <td>0.0</td>\n",
              "      <td>22.2</td>\n",
              "      <td>100.0</td>\n",
              "    </tr>\n",
              "  </tbody>\n",
              "</table>\n",
              "</div>"
            ],
            "text/plain": [
              "               iPhone  Accessories   Mac  iPad  iPod  Services  Total Revenue\n",
              "Apple Revenue                                                                \n",
              "2009             30.5          3.3  32.4   0.0  18.8      15.0          100.0\n",
              "2010             38.7          2.8  26.8   7.5  12.7      11.5          100.0\n",
              "2011             43.3          2.1  20.1  18.8   6.8       8.9          100.0\n",
              "2012             51.5          1.8  14.8  20.7   3.6       7.6          100.0\n",
              "2013             53.6          3.3  12.6  18.6   2.6       9.3          100.0\n",
              "2014             55.7          3.3  13.2  16.6   1.3       9.9          100.0\n",
              "2015             66.3          4.3  10.9   9.9   0.0       8.5          100.0\n",
              "2016             63.3          5.1  10.6   9.6   0.0      11.4          100.0\n",
              "2017             61.7          5.6  11.3   8.4   0.0      13.1          100.0\n",
              "2018             62.8          6.6   9.6   7.1   0.0      14.0          100.0\n",
              "2019             54.7          9.4   9.9   8.2   0.0      17.8          100.0\n",
              "2020             50.2         11.2  10.4   8.6   0.0      19.6          100.0\n",
              "2021             52.5         10.5   9.6   8.7   0.0      18.7          100.0\n",
              "2022             52.1         10.4  10.2   7.4   0.0      19.8          100.0\n",
              "2023             52.3         10.4   7.6   7.4   0.0      22.2          100.0"
            ]
          },
          "execution_count": 29,
          "metadata": {},
          "output_type": "execute_result"
        }
      ],
      "source": [
        "Apple = df2.iloc[2:,:]\n",
        "Apple"
      ]
    },
    {
      "cell_type": "code",
      "execution_count": null,
      "id": "b2722ba3",
      "metadata": {
        "id": "b2722ba3",
        "outputId": "4bca765b-4171-4407-b662-da0a670e9b19"
      },
      "outputs": [
        {
          "data": {
            "application/vnd.plotly.v1+json": {
              "config": {
                "plotlyServerURL": "https://plot.ly"
              },
              "data": [
                {
                  "connectgaps": true,
                  "line": {
                    "color": "rgb(67,67,67)",
                    "width": 4
                  },
                  "mode": "lines",
                  "name": "iPhone",
                  "type": "scatter",
                  "x": [
                    2009,
                    2010,
                    2011,
                    2012,
                    2013,
                    2014,
                    2015,
                    2016,
                    2017,
                    2018,
                    2019,
                    2020,
                    2021,
                    2022,
                    2023
                  ],
                  "y": [
                    30.5,
                    38.7,
                    43.3,
                    51.5,
                    53.6,
                    55.7,
                    66.3,
                    63.3,
                    61.7,
                    62.8,
                    54.7,
                    50.2,
                    52.5,
                    52.1,
                    52.3
                  ]
                },
                {
                  "marker": {
                    "color": "rgb(67,67,67)",
                    "size": 12
                  },
                  "mode": "markers",
                  "type": "scatter",
                  "x": [
                    2009,
                    2023
                  ],
                  "y": [
                    30.5,
                    52.3
                  ]
                },
                {
                  "connectgaps": true,
                  "line": {
                    "color": "rgb(115,115,115)",
                    "width": 2
                  },
                  "mode": "lines",
                  "name": "Accessories",
                  "type": "scatter",
                  "x": [
                    2009,
                    2010,
                    2011,
                    2012,
                    2013,
                    2014,
                    2015,
                    2016,
                    2017,
                    2018,
                    2019,
                    2020,
                    2021,
                    2022,
                    2023
                  ],
                  "y": [
                    3.3,
                    2.8,
                    2.1,
                    1.8,
                    3.3,
                    3.3,
                    4.3,
                    5.1,
                    5.6,
                    6.6,
                    9.4,
                    11.2,
                    10.5,
                    10.4,
                    10.4
                  ]
                },
                {
                  "marker": {
                    "color": "rgb(115,115,115)",
                    "size": 8
                  },
                  "mode": "markers",
                  "type": "scatter",
                  "x": [
                    2009,
                    2023
                  ],
                  "y": [
                    3.3,
                    10.4
                  ]
                },
                {
                  "connectgaps": true,
                  "line": {
                    "color": "rgb(49,130,189)",
                    "width": 2
                  },
                  "mode": "lines",
                  "name": "Mac",
                  "type": "scatter",
                  "x": [
                    2009,
                    2010,
                    2011,
                    2012,
                    2013,
                    2014,
                    2015,
                    2016,
                    2017,
                    2018,
                    2019,
                    2020,
                    2021,
                    2022,
                    2023
                  ],
                  "y": [
                    32.4,
                    26.8,
                    20.1,
                    14.8,
                    12.6,
                    13.2,
                    10.9,
                    10.6,
                    11.3,
                    9.6,
                    9.9,
                    10.4,
                    9.6,
                    10.2,
                    7.6
                  ]
                },
                {
                  "marker": {
                    "color": "rgb(49,130,189)",
                    "size": 8
                  },
                  "mode": "markers",
                  "type": "scatter",
                  "x": [
                    2009,
                    2023
                  ],
                  "y": [
                    32.4,
                    7.6
                  ]
                },
                {
                  "connectgaps": true,
                  "line": {
                    "color": "rgb(189,189,189)",
                    "width": 2
                  },
                  "mode": "lines",
                  "name": "iPad",
                  "type": "scatter",
                  "x": [
                    2009,
                    2010,
                    2011,
                    2012,
                    2013,
                    2014,
                    2015,
                    2016,
                    2017,
                    2018,
                    2019,
                    2020,
                    2021,
                    2022,
                    2023
                  ],
                  "y": [
                    0,
                    7.5,
                    18.8,
                    20.7,
                    18.6,
                    16.6,
                    9.9,
                    9.6,
                    8.4,
                    7.1,
                    8.2,
                    8.6,
                    8.7,
                    7.4,
                    7.4
                  ]
                },
                {
                  "marker": {
                    "color": "rgb(189,189,189)",
                    "size": 8
                  },
                  "mode": "markers",
                  "type": "scatter",
                  "x": [
                    2009,
                    2023
                  ],
                  "y": [
                    0,
                    7.4
                  ]
                },
                {
                  "connectgaps": true,
                  "line": {
                    "color": "rgb(255,0,0)",
                    "width": 2
                  },
                  "mode": "lines",
                  "name": "iPod",
                  "type": "scatter",
                  "x": [
                    2009,
                    2010,
                    2011,
                    2012,
                    2013,
                    2014,
                    2015,
                    2016,
                    2017,
                    2018,
                    2019,
                    2020,
                    2021,
                    2022,
                    2023
                  ],
                  "y": [
                    18.8,
                    12.7,
                    6.8,
                    3.6,
                    2.6,
                    1.3,
                    0,
                    0,
                    0,
                    0,
                    0,
                    0,
                    0,
                    0,
                    0
                  ]
                },
                {
                  "marker": {
                    "color": "rgb(255,0,0)",
                    "size": 8
                  },
                  "mode": "markers",
                  "type": "scatter",
                  "x": [
                    2009,
                    2023
                  ],
                  "y": [
                    18.8,
                    0
                  ]
                },
                {
                  "connectgaps": true,
                  "line": {
                    "color": "rgb(49,115,189)",
                    "width": 3
                  },
                  "mode": "lines",
                  "name": "Services",
                  "type": "scatter",
                  "x": [
                    2009,
                    2010,
                    2011,
                    2012,
                    2013,
                    2014,
                    2015,
                    2016,
                    2017,
                    2018,
                    2019,
                    2020,
                    2021,
                    2022,
                    2023
                  ],
                  "y": [
                    15,
                    11.5,
                    8.9,
                    7.6,
                    9.3,
                    9.9,
                    8.5,
                    11.4,
                    13.1,
                    14,
                    17.8,
                    19.6,
                    18.7,
                    19.8,
                    22.2
                  ]
                },
                {
                  "marker": {
                    "color": "rgb(49,115,189)",
                    "size": 10
                  },
                  "mode": "markers",
                  "type": "scatter",
                  "x": [
                    2009,
                    2023
                  ],
                  "y": [
                    15,
                    22.2
                  ]
                }
              ],
              "layout": {
                "annotations": [
                  {
                    "font": {
                      "family": "Arial",
                      "size": 12
                    },
                    "showarrow": false,
                    "text": "iPhone 30.5%",
                    "x": 0.05,
                    "xanchor": "right",
                    "xref": "paper",
                    "y": 30.5,
                    "yanchor": "middle"
                  },
                  {
                    "font": {
                      "family": "Arial",
                      "size": 12
                    },
                    "showarrow": false,
                    "text": "52.3%",
                    "x": 0.95,
                    "xanchor": "left",
                    "xref": "paper",
                    "y": 52.3,
                    "yanchor": "middle"
                  },
                  {
                    "font": {
                      "family": "Arial",
                      "size": 12
                    },
                    "showarrow": false,
                    "text": "Accessories 3.3%",
                    "x": 0.05,
                    "xanchor": "right",
                    "xref": "paper",
                    "y": 3.3,
                    "yanchor": "middle"
                  },
                  {
                    "font": {
                      "family": "Arial",
                      "size": 12
                    },
                    "showarrow": false,
                    "text": "10.4%",
                    "x": 0.95,
                    "xanchor": "left",
                    "xref": "paper",
                    "y": 10.4,
                    "yanchor": "middle"
                  },
                  {
                    "font": {
                      "family": "Arial",
                      "size": 12
                    },
                    "showarrow": false,
                    "text": "Mac 32.4%",
                    "x": 0.05,
                    "xanchor": "right",
                    "xref": "paper",
                    "y": 32.4,
                    "yanchor": "middle"
                  },
                  {
                    "font": {
                      "family": "Arial",
                      "size": 12
                    },
                    "showarrow": false,
                    "text": "7.6%",
                    "x": 0.95,
                    "xanchor": "left",
                    "xref": "paper",
                    "y": 7.6,
                    "yanchor": "middle"
                  },
                  {
                    "font": {
                      "family": "Arial",
                      "size": 12
                    },
                    "showarrow": false,
                    "text": "iPad 0.0%",
                    "x": 0.05,
                    "xanchor": "right",
                    "xref": "paper",
                    "y": 0,
                    "yanchor": "middle"
                  },
                  {
                    "font": {
                      "family": "Arial",
                      "size": 12
                    },
                    "showarrow": false,
                    "text": "7.4%",
                    "x": 0.95,
                    "xanchor": "left",
                    "xref": "paper",
                    "y": 7.4,
                    "yanchor": "middle"
                  },
                  {
                    "font": {
                      "family": "Arial",
                      "size": 12
                    },
                    "showarrow": false,
                    "text": "iPod 18.8%",
                    "x": 0.05,
                    "xanchor": "right",
                    "xref": "paper",
                    "y": 18.8,
                    "yanchor": "middle"
                  },
                  {
                    "font": {
                      "family": "Arial",
                      "size": 12
                    },
                    "showarrow": false,
                    "text": "0.0%",
                    "x": 0.95,
                    "xanchor": "left",
                    "xref": "paper",
                    "y": 0,
                    "yanchor": "middle"
                  },
                  {
                    "font": {
                      "family": "Arial",
                      "size": 12
                    },
                    "showarrow": false,
                    "text": "Services 15.0%",
                    "x": 0.05,
                    "xanchor": "right",
                    "xref": "paper",
                    "y": 15,
                    "yanchor": "middle"
                  },
                  {
                    "font": {
                      "family": "Arial",
                      "size": 12
                    },
                    "showarrow": false,
                    "text": "22.2%",
                    "x": 0.95,
                    "xanchor": "left",
                    "xref": "paper",
                    "y": 22.2,
                    "yanchor": "middle"
                  },
                  {
                    "font": {
                      "color": "rgb(37,37,37)",
                      "family": "Arial",
                      "size": 30
                    },
                    "showarrow": false,
                    "text": "Apple’s Product Revenue (2013-2023)",
                    "x": 0.5,
                    "xanchor": "center",
                    "xref": "paper",
                    "y": 1.05,
                    "yanchor": "bottom",
                    "yref": "paper"
                  },
                  {
                    "font": {
                      "color": "rgb(150,150,150)",
                      "family": "Arial",
                      "size": 12
                    },
                    "showarrow": false,
                    "text": "Source: Apple inc., & visualcapitalist",
                    "x": 0.5,
                    "xanchor": "center",
                    "xref": "paper",
                    "y": -0.1,
                    "yanchor": "top",
                    "yref": "paper"
                  }
                ],
                "autosize": false,
                "margin": {
                  "autoexpand": false,
                  "l": 100,
                  "r": 20,
                  "t": 110
                },
                "plot_bgcolor": "white",
                "showlegend": false,
                "template": {
                  "data": {
                    "bar": [
                      {
                        "error_x": {
                          "color": "#2a3f5f"
                        },
                        "error_y": {
                          "color": "#2a3f5f"
                        },
                        "marker": {
                          "line": {
                            "color": "#E5ECF6",
                            "width": 0.5
                          },
                          "pattern": {
                            "fillmode": "overlay",
                            "size": 10,
                            "solidity": 0.2
                          }
                        },
                        "type": "bar"
                      }
                    ],
                    "barpolar": [
                      {
                        "marker": {
                          "line": {
                            "color": "#E5ECF6",
                            "width": 0.5
                          },
                          "pattern": {
                            "fillmode": "overlay",
                            "size": 10,
                            "solidity": 0.2
                          }
                        },
                        "type": "barpolar"
                      }
                    ],
                    "carpet": [
                      {
                        "aaxis": {
                          "endlinecolor": "#2a3f5f",
                          "gridcolor": "white",
                          "linecolor": "white",
                          "minorgridcolor": "white",
                          "startlinecolor": "#2a3f5f"
                        },
                        "baxis": {
                          "endlinecolor": "#2a3f5f",
                          "gridcolor": "white",
                          "linecolor": "white",
                          "minorgridcolor": "white",
                          "startlinecolor": "#2a3f5f"
                        },
                        "type": "carpet"
                      }
                    ],
                    "choropleth": [
                      {
                        "colorbar": {
                          "outlinewidth": 0,
                          "ticks": ""
                        },
                        "type": "choropleth"
                      }
                    ],
                    "contour": [
                      {
                        "colorbar": {
                          "outlinewidth": 0,
                          "ticks": ""
                        },
                        "colorscale": [
                          [
                            0,
                            "#0d0887"
                          ],
                          [
                            0.1111111111111111,
                            "#46039f"
                          ],
                          [
                            0.2222222222222222,
                            "#7201a8"
                          ],
                          [
                            0.3333333333333333,
                            "#9c179e"
                          ],
                          [
                            0.4444444444444444,
                            "#bd3786"
                          ],
                          [
                            0.5555555555555556,
                            "#d8576b"
                          ],
                          [
                            0.6666666666666666,
                            "#ed7953"
                          ],
                          [
                            0.7777777777777778,
                            "#fb9f3a"
                          ],
                          [
                            0.8888888888888888,
                            "#fdca26"
                          ],
                          [
                            1,
                            "#f0f921"
                          ]
                        ],
                        "type": "contour"
                      }
                    ],
                    "contourcarpet": [
                      {
                        "colorbar": {
                          "outlinewidth": 0,
                          "ticks": ""
                        },
                        "type": "contourcarpet"
                      }
                    ],
                    "heatmap": [
                      {
                        "colorbar": {
                          "outlinewidth": 0,
                          "ticks": ""
                        },
                        "colorscale": [
                          [
                            0,
                            "#0d0887"
                          ],
                          [
                            0.1111111111111111,
                            "#46039f"
                          ],
                          [
                            0.2222222222222222,
                            "#7201a8"
                          ],
                          [
                            0.3333333333333333,
                            "#9c179e"
                          ],
                          [
                            0.4444444444444444,
                            "#bd3786"
                          ],
                          [
                            0.5555555555555556,
                            "#d8576b"
                          ],
                          [
                            0.6666666666666666,
                            "#ed7953"
                          ],
                          [
                            0.7777777777777778,
                            "#fb9f3a"
                          ],
                          [
                            0.8888888888888888,
                            "#fdca26"
                          ],
                          [
                            1,
                            "#f0f921"
                          ]
                        ],
                        "type": "heatmap"
                      }
                    ],
                    "heatmapgl": [
                      {
                        "colorbar": {
                          "outlinewidth": 0,
                          "ticks": ""
                        },
                        "colorscale": [
                          [
                            0,
                            "#0d0887"
                          ],
                          [
                            0.1111111111111111,
                            "#46039f"
                          ],
                          [
                            0.2222222222222222,
                            "#7201a8"
                          ],
                          [
                            0.3333333333333333,
                            "#9c179e"
                          ],
                          [
                            0.4444444444444444,
                            "#bd3786"
                          ],
                          [
                            0.5555555555555556,
                            "#d8576b"
                          ],
                          [
                            0.6666666666666666,
                            "#ed7953"
                          ],
                          [
                            0.7777777777777778,
                            "#fb9f3a"
                          ],
                          [
                            0.8888888888888888,
                            "#fdca26"
                          ],
                          [
                            1,
                            "#f0f921"
                          ]
                        ],
                        "type": "heatmapgl"
                      }
                    ],
                    "histogram": [
                      {
                        "marker": {
                          "pattern": {
                            "fillmode": "overlay",
                            "size": 10,
                            "solidity": 0.2
                          }
                        },
                        "type": "histogram"
                      }
                    ],
                    "histogram2d": [
                      {
                        "colorbar": {
                          "outlinewidth": 0,
                          "ticks": ""
                        },
                        "colorscale": [
                          [
                            0,
                            "#0d0887"
                          ],
                          [
                            0.1111111111111111,
                            "#46039f"
                          ],
                          [
                            0.2222222222222222,
                            "#7201a8"
                          ],
                          [
                            0.3333333333333333,
                            "#9c179e"
                          ],
                          [
                            0.4444444444444444,
                            "#bd3786"
                          ],
                          [
                            0.5555555555555556,
                            "#d8576b"
                          ],
                          [
                            0.6666666666666666,
                            "#ed7953"
                          ],
                          [
                            0.7777777777777778,
                            "#fb9f3a"
                          ],
                          [
                            0.8888888888888888,
                            "#fdca26"
                          ],
                          [
                            1,
                            "#f0f921"
                          ]
                        ],
                        "type": "histogram2d"
                      }
                    ],
                    "histogram2dcontour": [
                      {
                        "colorbar": {
                          "outlinewidth": 0,
                          "ticks": ""
                        },
                        "colorscale": [
                          [
                            0,
                            "#0d0887"
                          ],
                          [
                            0.1111111111111111,
                            "#46039f"
                          ],
                          [
                            0.2222222222222222,
                            "#7201a8"
                          ],
                          [
                            0.3333333333333333,
                            "#9c179e"
                          ],
                          [
                            0.4444444444444444,
                            "#bd3786"
                          ],
                          [
                            0.5555555555555556,
                            "#d8576b"
                          ],
                          [
                            0.6666666666666666,
                            "#ed7953"
                          ],
                          [
                            0.7777777777777778,
                            "#fb9f3a"
                          ],
                          [
                            0.8888888888888888,
                            "#fdca26"
                          ],
                          [
                            1,
                            "#f0f921"
                          ]
                        ],
                        "type": "histogram2dcontour"
                      }
                    ],
                    "mesh3d": [
                      {
                        "colorbar": {
                          "outlinewidth": 0,
                          "ticks": ""
                        },
                        "type": "mesh3d"
                      }
                    ],
                    "parcoords": [
                      {
                        "line": {
                          "colorbar": {
                            "outlinewidth": 0,
                            "ticks": ""
                          }
                        },
                        "type": "parcoords"
                      }
                    ],
                    "pie": [
                      {
                        "automargin": true,
                        "type": "pie"
                      }
                    ],
                    "scatter": [
                      {
                        "fillpattern": {
                          "fillmode": "overlay",
                          "size": 10,
                          "solidity": 0.2
                        },
                        "type": "scatter"
                      }
                    ],
                    "scatter3d": [
                      {
                        "line": {
                          "colorbar": {
                            "outlinewidth": 0,
                            "ticks": ""
                          }
                        },
                        "marker": {
                          "colorbar": {
                            "outlinewidth": 0,
                            "ticks": ""
                          }
                        },
                        "type": "scatter3d"
                      }
                    ],
                    "scattercarpet": [
                      {
                        "marker": {
                          "colorbar": {
                            "outlinewidth": 0,
                            "ticks": ""
                          }
                        },
                        "type": "scattercarpet"
                      }
                    ],
                    "scattergeo": [
                      {
                        "marker": {
                          "colorbar": {
                            "outlinewidth": 0,
                            "ticks": ""
                          }
                        },
                        "type": "scattergeo"
                      }
                    ],
                    "scattergl": [
                      {
                        "marker": {
                          "colorbar": {
                            "outlinewidth": 0,
                            "ticks": ""
                          }
                        },
                        "type": "scattergl"
                      }
                    ],
                    "scattermapbox": [
                      {
                        "marker": {
                          "colorbar": {
                            "outlinewidth": 0,
                            "ticks": ""
                          }
                        },
                        "type": "scattermapbox"
                      }
                    ],
                    "scatterpolar": [
                      {
                        "marker": {
                          "colorbar": {
                            "outlinewidth": 0,
                            "ticks": ""
                          }
                        },
                        "type": "scatterpolar"
                      }
                    ],
                    "scatterpolargl": [
                      {
                        "marker": {
                          "colorbar": {
                            "outlinewidth": 0,
                            "ticks": ""
                          }
                        },
                        "type": "scatterpolargl"
                      }
                    ],
                    "scatterternary": [
                      {
                        "marker": {
                          "colorbar": {
                            "outlinewidth": 0,
                            "ticks": ""
                          }
                        },
                        "type": "scatterternary"
                      }
                    ],
                    "surface": [
                      {
                        "colorbar": {
                          "outlinewidth": 0,
                          "ticks": ""
                        },
                        "colorscale": [
                          [
                            0,
                            "#0d0887"
                          ],
                          [
                            0.1111111111111111,
                            "#46039f"
                          ],
                          [
                            0.2222222222222222,
                            "#7201a8"
                          ],
                          [
                            0.3333333333333333,
                            "#9c179e"
                          ],
                          [
                            0.4444444444444444,
                            "#bd3786"
                          ],
                          [
                            0.5555555555555556,
                            "#d8576b"
                          ],
                          [
                            0.6666666666666666,
                            "#ed7953"
                          ],
                          [
                            0.7777777777777778,
                            "#fb9f3a"
                          ],
                          [
                            0.8888888888888888,
                            "#fdca26"
                          ],
                          [
                            1,
                            "#f0f921"
                          ]
                        ],
                        "type": "surface"
                      }
                    ],
                    "table": [
                      {
                        "cells": {
                          "fill": {
                            "color": "#EBF0F8"
                          },
                          "line": {
                            "color": "white"
                          }
                        },
                        "header": {
                          "fill": {
                            "color": "#C8D4E3"
                          },
                          "line": {
                            "color": "white"
                          }
                        },
                        "type": "table"
                      }
                    ]
                  },
                  "layout": {
                    "annotationdefaults": {
                      "arrowcolor": "#2a3f5f",
                      "arrowhead": 0,
                      "arrowwidth": 1
                    },
                    "autotypenumbers": "strict",
                    "coloraxis": {
                      "colorbar": {
                        "outlinewidth": 0,
                        "ticks": ""
                      }
                    },
                    "colorscale": {
                      "diverging": [
                        [
                          0,
                          "#8e0152"
                        ],
                        [
                          0.1,
                          "#c51b7d"
                        ],
                        [
                          0.2,
                          "#de77ae"
                        ],
                        [
                          0.3,
                          "#f1b6da"
                        ],
                        [
                          0.4,
                          "#fde0ef"
                        ],
                        [
                          0.5,
                          "#f7f7f7"
                        ],
                        [
                          0.6,
                          "#e6f5d0"
                        ],
                        [
                          0.7,
                          "#b8e186"
                        ],
                        [
                          0.8,
                          "#7fbc41"
                        ],
                        [
                          0.9,
                          "#4d9221"
                        ],
                        [
                          1,
                          "#276419"
                        ]
                      ],
                      "sequential": [
                        [
                          0,
                          "#0d0887"
                        ],
                        [
                          0.1111111111111111,
                          "#46039f"
                        ],
                        [
                          0.2222222222222222,
                          "#7201a8"
                        ],
                        [
                          0.3333333333333333,
                          "#9c179e"
                        ],
                        [
                          0.4444444444444444,
                          "#bd3786"
                        ],
                        [
                          0.5555555555555556,
                          "#d8576b"
                        ],
                        [
                          0.6666666666666666,
                          "#ed7953"
                        ],
                        [
                          0.7777777777777778,
                          "#fb9f3a"
                        ],
                        [
                          0.8888888888888888,
                          "#fdca26"
                        ],
                        [
                          1,
                          "#f0f921"
                        ]
                      ],
                      "sequentialminus": [
                        [
                          0,
                          "#0d0887"
                        ],
                        [
                          0.1111111111111111,
                          "#46039f"
                        ],
                        [
                          0.2222222222222222,
                          "#7201a8"
                        ],
                        [
                          0.3333333333333333,
                          "#9c179e"
                        ],
                        [
                          0.4444444444444444,
                          "#bd3786"
                        ],
                        [
                          0.5555555555555556,
                          "#d8576b"
                        ],
                        [
                          0.6666666666666666,
                          "#ed7953"
                        ],
                        [
                          0.7777777777777778,
                          "#fb9f3a"
                        ],
                        [
                          0.8888888888888888,
                          "#fdca26"
                        ],
                        [
                          1,
                          "#f0f921"
                        ]
                      ]
                    },
                    "colorway": [
                      "#636efa",
                      "#EF553B",
                      "#00cc96",
                      "#ab63fa",
                      "#FFA15A",
                      "#19d3f3",
                      "#FF6692",
                      "#B6E880",
                      "#FF97FF",
                      "#FECB52"
                    ],
                    "font": {
                      "color": "#2a3f5f"
                    },
                    "geo": {
                      "bgcolor": "white",
                      "lakecolor": "white",
                      "landcolor": "#E5ECF6",
                      "showlakes": true,
                      "showland": true,
                      "subunitcolor": "white"
                    },
                    "hoverlabel": {
                      "align": "left"
                    },
                    "hovermode": "closest",
                    "mapbox": {
                      "style": "light"
                    },
                    "paper_bgcolor": "white",
                    "plot_bgcolor": "#E5ECF6",
                    "polar": {
                      "angularaxis": {
                        "gridcolor": "white",
                        "linecolor": "white",
                        "ticks": ""
                      },
                      "bgcolor": "#E5ECF6",
                      "radialaxis": {
                        "gridcolor": "white",
                        "linecolor": "white",
                        "ticks": ""
                      }
                    },
                    "scene": {
                      "xaxis": {
                        "backgroundcolor": "#E5ECF6",
                        "gridcolor": "white",
                        "gridwidth": 2,
                        "linecolor": "white",
                        "showbackground": true,
                        "ticks": "",
                        "zerolinecolor": "white"
                      },
                      "yaxis": {
                        "backgroundcolor": "#E5ECF6",
                        "gridcolor": "white",
                        "gridwidth": 2,
                        "linecolor": "white",
                        "showbackground": true,
                        "ticks": "",
                        "zerolinecolor": "white"
                      },
                      "zaxis": {
                        "backgroundcolor": "#E5ECF6",
                        "gridcolor": "white",
                        "gridwidth": 2,
                        "linecolor": "white",
                        "showbackground": true,
                        "ticks": "",
                        "zerolinecolor": "white"
                      }
                    },
                    "shapedefaults": {
                      "line": {
                        "color": "#2a3f5f"
                      }
                    },
                    "ternary": {
                      "aaxis": {
                        "gridcolor": "white",
                        "linecolor": "white",
                        "ticks": ""
                      },
                      "baxis": {
                        "gridcolor": "white",
                        "linecolor": "white",
                        "ticks": ""
                      },
                      "bgcolor": "#E5ECF6",
                      "caxis": {
                        "gridcolor": "white",
                        "linecolor": "white",
                        "ticks": ""
                      }
                    },
                    "title": {
                      "x": 0.05
                    },
                    "xaxis": {
                      "automargin": true,
                      "gridcolor": "white",
                      "linecolor": "white",
                      "ticks": "",
                      "title": {
                        "standoff": 15
                      },
                      "zerolinecolor": "white",
                      "zerolinewidth": 2
                    },
                    "yaxis": {
                      "automargin": true,
                      "gridcolor": "white",
                      "linecolor": "white",
                      "ticks": "",
                      "title": {
                        "standoff": 15
                      },
                      "zerolinecolor": "white",
                      "zerolinewidth": 2
                    }
                  }
                },
                "xaxis": {
                  "linecolor": "rgb(204, 204, 204)",
                  "linewidth": 2,
                  "showgrid": false,
                  "showline": true,
                  "showticklabels": true,
                  "tickfont": {
                    "color": "rgb(82, 82, 82)",
                    "family": "Arial",
                    "size": 12
                  },
                  "ticks": "outside"
                },
                "yaxis": {
                  "showgrid": false,
                  "showline": false,
                  "showticklabels": false,
                  "zeroline": false
                }
              }
            },
            "text/html": [
              "<div>                            <div id=\"82ef9066-3e72-45df-856c-a219010030cc\" class=\"plotly-graph-div\" style=\"height:525px; width:100%;\"></div>            <script type=\"text/javascript\">                require([\"plotly\"], function(Plotly) {                    window.PLOTLYENV=window.PLOTLYENV || {};                                    if (document.getElementById(\"82ef9066-3e72-45df-856c-a219010030cc\")) {                    Plotly.newPlot(                        \"82ef9066-3e72-45df-856c-a219010030cc\",                        [{\"connectgaps\":true,\"line\":{\"color\":\"rgb(67,67,67)\",\"width\":4},\"mode\":\"lines\",\"name\":\"iPhone\",\"x\":[2009,2010,2011,2012,2013,2014,2015,2016,2017,2018,2019,2020,2021,2022,2023],\"y\":[30.5,38.7,43.3,51.5,53.6,55.7,66.3,63.3,61.7,62.8,54.7,50.2,52.5,52.1,52.3],\"type\":\"scatter\"},{\"marker\":{\"color\":\"rgb(67,67,67)\",\"size\":12},\"mode\":\"markers\",\"x\":[2009,2023],\"y\":[30.5,52.3],\"type\":\"scatter\"},{\"connectgaps\":true,\"line\":{\"color\":\"rgb(115,115,115)\",\"width\":2},\"mode\":\"lines\",\"name\":\"Accessories\",\"x\":[2009,2010,2011,2012,2013,2014,2015,2016,2017,2018,2019,2020,2021,2022,2023],\"y\":[3.3,2.8,2.1,1.8,3.3,3.3,4.3,5.1,5.6,6.6,9.4,11.2,10.5,10.4,10.4],\"type\":\"scatter\"},{\"marker\":{\"color\":\"rgb(115,115,115)\",\"size\":8},\"mode\":\"markers\",\"x\":[2009,2023],\"y\":[3.3,10.4],\"type\":\"scatter\"},{\"connectgaps\":true,\"line\":{\"color\":\"rgb(49,130,189)\",\"width\":2},\"mode\":\"lines\",\"name\":\"Mac\",\"x\":[2009,2010,2011,2012,2013,2014,2015,2016,2017,2018,2019,2020,2021,2022,2023],\"y\":[32.4,26.8,20.1,14.8,12.6,13.2,10.9,10.6,11.3,9.6,9.9,10.4,9.6,10.2,7.6],\"type\":\"scatter\"},{\"marker\":{\"color\":\"rgb(49,130,189)\",\"size\":8},\"mode\":\"markers\",\"x\":[2009,2023],\"y\":[32.4,7.6],\"type\":\"scatter\"},{\"connectgaps\":true,\"line\":{\"color\":\"rgb(189,189,189)\",\"width\":2},\"mode\":\"lines\",\"name\":\"iPad\",\"x\":[2009,2010,2011,2012,2013,2014,2015,2016,2017,2018,2019,2020,2021,2022,2023],\"y\":[0.0,7.5,18.8,20.7,18.6,16.6,9.9,9.6,8.4,7.1,8.2,8.6,8.7,7.4,7.4],\"type\":\"scatter\"},{\"marker\":{\"color\":\"rgb(189,189,189)\",\"size\":8},\"mode\":\"markers\",\"x\":[2009,2023],\"y\":[0.0,7.4],\"type\":\"scatter\"},{\"connectgaps\":true,\"line\":{\"color\":\"rgb(255,0,0)\",\"width\":2},\"mode\":\"lines\",\"name\":\"iPod\",\"x\":[2009,2010,2011,2012,2013,2014,2015,2016,2017,2018,2019,2020,2021,2022,2023],\"y\":[18.8,12.7,6.8,3.6,2.6,1.3,0.0,0.0,0.0,0.0,0.0,0.0,0.0,0.0,0.0],\"type\":\"scatter\"},{\"marker\":{\"color\":\"rgb(255,0,0)\",\"size\":8},\"mode\":\"markers\",\"x\":[2009,2023],\"y\":[18.8,0.0],\"type\":\"scatter\"},{\"connectgaps\":true,\"line\":{\"color\":\"rgb(49,115,189)\",\"width\":3},\"mode\":\"lines\",\"name\":\"Services\",\"x\":[2009,2010,2011,2012,2013,2014,2015,2016,2017,2018,2019,2020,2021,2022,2023],\"y\":[15.0,11.5,8.9,7.6,9.3,9.9,8.5,11.4,13.1,14.0,17.8,19.6,18.7,19.8,22.2],\"type\":\"scatter\"},{\"marker\":{\"color\":\"rgb(49,115,189)\",\"size\":10},\"mode\":\"markers\",\"x\":[2009,2023],\"y\":[15.0,22.2],\"type\":\"scatter\"}],                        {\"template\":{\"data\":{\"histogram2dcontour\":[{\"type\":\"histogram2dcontour\",\"colorbar\":{\"outlinewidth\":0,\"ticks\":\"\"},\"colorscale\":[[0.0,\"#0d0887\"],[0.1111111111111111,\"#46039f\"],[0.2222222222222222,\"#7201a8\"],[0.3333333333333333,\"#9c179e\"],[0.4444444444444444,\"#bd3786\"],[0.5555555555555556,\"#d8576b\"],[0.6666666666666666,\"#ed7953\"],[0.7777777777777778,\"#fb9f3a\"],[0.8888888888888888,\"#fdca26\"],[1.0,\"#f0f921\"]]}],\"choropleth\":[{\"type\":\"choropleth\",\"colorbar\":{\"outlinewidth\":0,\"ticks\":\"\"}}],\"histogram2d\":[{\"type\":\"histogram2d\",\"colorbar\":{\"outlinewidth\":0,\"ticks\":\"\"},\"colorscale\":[[0.0,\"#0d0887\"],[0.1111111111111111,\"#46039f\"],[0.2222222222222222,\"#7201a8\"],[0.3333333333333333,\"#9c179e\"],[0.4444444444444444,\"#bd3786\"],[0.5555555555555556,\"#d8576b\"],[0.6666666666666666,\"#ed7953\"],[0.7777777777777778,\"#fb9f3a\"],[0.8888888888888888,\"#fdca26\"],[1.0,\"#f0f921\"]]}],\"heatmap\":[{\"type\":\"heatmap\",\"colorbar\":{\"outlinewidth\":0,\"ticks\":\"\"},\"colorscale\":[[0.0,\"#0d0887\"],[0.1111111111111111,\"#46039f\"],[0.2222222222222222,\"#7201a8\"],[0.3333333333333333,\"#9c179e\"],[0.4444444444444444,\"#bd3786\"],[0.5555555555555556,\"#d8576b\"],[0.6666666666666666,\"#ed7953\"],[0.7777777777777778,\"#fb9f3a\"],[0.8888888888888888,\"#fdca26\"],[1.0,\"#f0f921\"]]}],\"heatmapgl\":[{\"type\":\"heatmapgl\",\"colorbar\":{\"outlinewidth\":0,\"ticks\":\"\"},\"colorscale\":[[0.0,\"#0d0887\"],[0.1111111111111111,\"#46039f\"],[0.2222222222222222,\"#7201a8\"],[0.3333333333333333,\"#9c179e\"],[0.4444444444444444,\"#bd3786\"],[0.5555555555555556,\"#d8576b\"],[0.6666666666666666,\"#ed7953\"],[0.7777777777777778,\"#fb9f3a\"],[0.8888888888888888,\"#fdca26\"],[1.0,\"#f0f921\"]]}],\"contourcarpet\":[{\"type\":\"contourcarpet\",\"colorbar\":{\"outlinewidth\":0,\"ticks\":\"\"}}],\"contour\":[{\"type\":\"contour\",\"colorbar\":{\"outlinewidth\":0,\"ticks\":\"\"},\"colorscale\":[[0.0,\"#0d0887\"],[0.1111111111111111,\"#46039f\"],[0.2222222222222222,\"#7201a8\"],[0.3333333333333333,\"#9c179e\"],[0.4444444444444444,\"#bd3786\"],[0.5555555555555556,\"#d8576b\"],[0.6666666666666666,\"#ed7953\"],[0.7777777777777778,\"#fb9f3a\"],[0.8888888888888888,\"#fdca26\"],[1.0,\"#f0f921\"]]}],\"surface\":[{\"type\":\"surface\",\"colorbar\":{\"outlinewidth\":0,\"ticks\":\"\"},\"colorscale\":[[0.0,\"#0d0887\"],[0.1111111111111111,\"#46039f\"],[0.2222222222222222,\"#7201a8\"],[0.3333333333333333,\"#9c179e\"],[0.4444444444444444,\"#bd3786\"],[0.5555555555555556,\"#d8576b\"],[0.6666666666666666,\"#ed7953\"],[0.7777777777777778,\"#fb9f3a\"],[0.8888888888888888,\"#fdca26\"],[1.0,\"#f0f921\"]]}],\"mesh3d\":[{\"type\":\"mesh3d\",\"colorbar\":{\"outlinewidth\":0,\"ticks\":\"\"}}],\"scatter\":[{\"fillpattern\":{\"fillmode\":\"overlay\",\"size\":10,\"solidity\":0.2},\"type\":\"scatter\"}],\"parcoords\":[{\"type\":\"parcoords\",\"line\":{\"colorbar\":{\"outlinewidth\":0,\"ticks\":\"\"}}}],\"scatterpolargl\":[{\"type\":\"scatterpolargl\",\"marker\":{\"colorbar\":{\"outlinewidth\":0,\"ticks\":\"\"}}}],\"bar\":[{\"error_x\":{\"color\":\"#2a3f5f\"},\"error_y\":{\"color\":\"#2a3f5f\"},\"marker\":{\"line\":{\"color\":\"#E5ECF6\",\"width\":0.5},\"pattern\":{\"fillmode\":\"overlay\",\"size\":10,\"solidity\":0.2}},\"type\":\"bar\"}],\"scattergeo\":[{\"type\":\"scattergeo\",\"marker\":{\"colorbar\":{\"outlinewidth\":0,\"ticks\":\"\"}}}],\"scatterpolar\":[{\"type\":\"scatterpolar\",\"marker\":{\"colorbar\":{\"outlinewidth\":0,\"ticks\":\"\"}}}],\"histogram\":[{\"marker\":{\"pattern\":{\"fillmode\":\"overlay\",\"size\":10,\"solidity\":0.2}},\"type\":\"histogram\"}],\"scattergl\":[{\"type\":\"scattergl\",\"marker\":{\"colorbar\":{\"outlinewidth\":0,\"ticks\":\"\"}}}],\"scatter3d\":[{\"type\":\"scatter3d\",\"line\":{\"colorbar\":{\"outlinewidth\":0,\"ticks\":\"\"}},\"marker\":{\"colorbar\":{\"outlinewidth\":0,\"ticks\":\"\"}}}],\"scattermapbox\":[{\"type\":\"scattermapbox\",\"marker\":{\"colorbar\":{\"outlinewidth\":0,\"ticks\":\"\"}}}],\"scatterternary\":[{\"type\":\"scatterternary\",\"marker\":{\"colorbar\":{\"outlinewidth\":0,\"ticks\":\"\"}}}],\"scattercarpet\":[{\"type\":\"scattercarpet\",\"marker\":{\"colorbar\":{\"outlinewidth\":0,\"ticks\":\"\"}}}],\"carpet\":[{\"aaxis\":{\"endlinecolor\":\"#2a3f5f\",\"gridcolor\":\"white\",\"linecolor\":\"white\",\"minorgridcolor\":\"white\",\"startlinecolor\":\"#2a3f5f\"},\"baxis\":{\"endlinecolor\":\"#2a3f5f\",\"gridcolor\":\"white\",\"linecolor\":\"white\",\"minorgridcolor\":\"white\",\"startlinecolor\":\"#2a3f5f\"},\"type\":\"carpet\"}],\"table\":[{\"cells\":{\"fill\":{\"color\":\"#EBF0F8\"},\"line\":{\"color\":\"white\"}},\"header\":{\"fill\":{\"color\":\"#C8D4E3\"},\"line\":{\"color\":\"white\"}},\"type\":\"table\"}],\"barpolar\":[{\"marker\":{\"line\":{\"color\":\"#E5ECF6\",\"width\":0.5},\"pattern\":{\"fillmode\":\"overlay\",\"size\":10,\"solidity\":0.2}},\"type\":\"barpolar\"}],\"pie\":[{\"automargin\":true,\"type\":\"pie\"}]},\"layout\":{\"autotypenumbers\":\"strict\",\"colorway\":[\"#636efa\",\"#EF553B\",\"#00cc96\",\"#ab63fa\",\"#FFA15A\",\"#19d3f3\",\"#FF6692\",\"#B6E880\",\"#FF97FF\",\"#FECB52\"],\"font\":{\"color\":\"#2a3f5f\"},\"hovermode\":\"closest\",\"hoverlabel\":{\"align\":\"left\"},\"paper_bgcolor\":\"white\",\"plot_bgcolor\":\"#E5ECF6\",\"polar\":{\"bgcolor\":\"#E5ECF6\",\"angularaxis\":{\"gridcolor\":\"white\",\"linecolor\":\"white\",\"ticks\":\"\"},\"radialaxis\":{\"gridcolor\":\"white\",\"linecolor\":\"white\",\"ticks\":\"\"}},\"ternary\":{\"bgcolor\":\"#E5ECF6\",\"aaxis\":{\"gridcolor\":\"white\",\"linecolor\":\"white\",\"ticks\":\"\"},\"baxis\":{\"gridcolor\":\"white\",\"linecolor\":\"white\",\"ticks\":\"\"},\"caxis\":{\"gridcolor\":\"white\",\"linecolor\":\"white\",\"ticks\":\"\"}},\"coloraxis\":{\"colorbar\":{\"outlinewidth\":0,\"ticks\":\"\"}},\"colorscale\":{\"sequential\":[[0.0,\"#0d0887\"],[0.1111111111111111,\"#46039f\"],[0.2222222222222222,\"#7201a8\"],[0.3333333333333333,\"#9c179e\"],[0.4444444444444444,\"#bd3786\"],[0.5555555555555556,\"#d8576b\"],[0.6666666666666666,\"#ed7953\"],[0.7777777777777778,\"#fb9f3a\"],[0.8888888888888888,\"#fdca26\"],[1.0,\"#f0f921\"]],\"sequentialminus\":[[0.0,\"#0d0887\"],[0.1111111111111111,\"#46039f\"],[0.2222222222222222,\"#7201a8\"],[0.3333333333333333,\"#9c179e\"],[0.4444444444444444,\"#bd3786\"],[0.5555555555555556,\"#d8576b\"],[0.6666666666666666,\"#ed7953\"],[0.7777777777777778,\"#fb9f3a\"],[0.8888888888888888,\"#fdca26\"],[1.0,\"#f0f921\"]],\"diverging\":[[0,\"#8e0152\"],[0.1,\"#c51b7d\"],[0.2,\"#de77ae\"],[0.3,\"#f1b6da\"],[0.4,\"#fde0ef\"],[0.5,\"#f7f7f7\"],[0.6,\"#e6f5d0\"],[0.7,\"#b8e186\"],[0.8,\"#7fbc41\"],[0.9,\"#4d9221\"],[1,\"#276419\"]]},\"xaxis\":{\"gridcolor\":\"white\",\"linecolor\":\"white\",\"ticks\":\"\",\"title\":{\"standoff\":15},\"zerolinecolor\":\"white\",\"automargin\":true,\"zerolinewidth\":2},\"yaxis\":{\"gridcolor\":\"white\",\"linecolor\":\"white\",\"ticks\":\"\",\"title\":{\"standoff\":15},\"zerolinecolor\":\"white\",\"automargin\":true,\"zerolinewidth\":2},\"scene\":{\"xaxis\":{\"backgroundcolor\":\"#E5ECF6\",\"gridcolor\":\"white\",\"linecolor\":\"white\",\"showbackground\":true,\"ticks\":\"\",\"zerolinecolor\":\"white\",\"gridwidth\":2},\"yaxis\":{\"backgroundcolor\":\"#E5ECF6\",\"gridcolor\":\"white\",\"linecolor\":\"white\",\"showbackground\":true,\"ticks\":\"\",\"zerolinecolor\":\"white\",\"gridwidth\":2},\"zaxis\":{\"backgroundcolor\":\"#E5ECF6\",\"gridcolor\":\"white\",\"linecolor\":\"white\",\"showbackground\":true,\"ticks\":\"\",\"zerolinecolor\":\"white\",\"gridwidth\":2}},\"shapedefaults\":{\"line\":{\"color\":\"#2a3f5f\"}},\"annotationdefaults\":{\"arrowcolor\":\"#2a3f5f\",\"arrowhead\":0,\"arrowwidth\":1},\"geo\":{\"bgcolor\":\"white\",\"landcolor\":\"#E5ECF6\",\"subunitcolor\":\"white\",\"showland\":true,\"showlakes\":true,\"lakecolor\":\"white\"},\"title\":{\"x\":0.05},\"mapbox\":{\"style\":\"light\"}}},\"xaxis\":{\"tickfont\":{\"family\":\"Arial\",\"size\":12,\"color\":\"rgb(82, 82, 82)\"},\"showline\":true,\"showgrid\":false,\"showticklabels\":true,\"linecolor\":\"rgb(204, 204, 204)\",\"linewidth\":2,\"ticks\":\"outside\"},\"yaxis\":{\"showgrid\":false,\"zeroline\":false,\"showline\":false,\"showticklabels\":false},\"margin\":{\"autoexpand\":false,\"l\":100,\"r\":20,\"t\":110},\"autosize\":false,\"showlegend\":false,\"plot_bgcolor\":\"white\",\"annotations\":[{\"font\":{\"family\":\"Arial\",\"size\":12},\"showarrow\":false,\"text\":\"iPhone 30.5%\",\"x\":0.05,\"xanchor\":\"right\",\"xref\":\"paper\",\"y\":30.5,\"yanchor\":\"middle\"},{\"font\":{\"family\":\"Arial\",\"size\":12},\"showarrow\":false,\"text\":\"52.3%\",\"x\":0.95,\"xanchor\":\"left\",\"xref\":\"paper\",\"y\":52.3,\"yanchor\":\"middle\"},{\"font\":{\"family\":\"Arial\",\"size\":12},\"showarrow\":false,\"text\":\"Accessories 3.3%\",\"x\":0.05,\"xanchor\":\"right\",\"xref\":\"paper\",\"y\":3.3,\"yanchor\":\"middle\"},{\"font\":{\"family\":\"Arial\",\"size\":12},\"showarrow\":false,\"text\":\"10.4%\",\"x\":0.95,\"xanchor\":\"left\",\"xref\":\"paper\",\"y\":10.4,\"yanchor\":\"middle\"},{\"font\":{\"family\":\"Arial\",\"size\":12},\"showarrow\":false,\"text\":\"Mac 32.4%\",\"x\":0.05,\"xanchor\":\"right\",\"xref\":\"paper\",\"y\":32.4,\"yanchor\":\"middle\"},{\"font\":{\"family\":\"Arial\",\"size\":12},\"showarrow\":false,\"text\":\"7.6%\",\"x\":0.95,\"xanchor\":\"left\",\"xref\":\"paper\",\"y\":7.6,\"yanchor\":\"middle\"},{\"font\":{\"family\":\"Arial\",\"size\":12},\"showarrow\":false,\"text\":\"iPad 0.0%\",\"x\":0.05,\"xanchor\":\"right\",\"xref\":\"paper\",\"y\":0.0,\"yanchor\":\"middle\"},{\"font\":{\"family\":\"Arial\",\"size\":12},\"showarrow\":false,\"text\":\"7.4%\",\"x\":0.95,\"xanchor\":\"left\",\"xref\":\"paper\",\"y\":7.4,\"yanchor\":\"middle\"},{\"font\":{\"family\":\"Arial\",\"size\":12},\"showarrow\":false,\"text\":\"iPod 18.8%\",\"x\":0.05,\"xanchor\":\"right\",\"xref\":\"paper\",\"y\":18.8,\"yanchor\":\"middle\"},{\"font\":{\"family\":\"Arial\",\"size\":12},\"showarrow\":false,\"text\":\"0.0%\",\"x\":0.95,\"xanchor\":\"left\",\"xref\":\"paper\",\"y\":0.0,\"yanchor\":\"middle\"},{\"font\":{\"family\":\"Arial\",\"size\":12},\"showarrow\":false,\"text\":\"Services 15.0%\",\"x\":0.05,\"xanchor\":\"right\",\"xref\":\"paper\",\"y\":15.0,\"yanchor\":\"middle\"},{\"font\":{\"family\":\"Arial\",\"size\":12},\"showarrow\":false,\"text\":\"22.2%\",\"x\":0.95,\"xanchor\":\"left\",\"xref\":\"paper\",\"y\":22.2,\"yanchor\":\"middle\"},{\"font\":{\"color\":\"rgb(37,37,37)\",\"family\":\"Arial\",\"size\":30},\"showarrow\":false,\"text\":\"Apple\\u2019s Product Revenue (2013-2023)\",\"x\":0.5,\"xanchor\":\"center\",\"xref\":\"paper\",\"y\":1.05,\"yanchor\":\"bottom\",\"yref\":\"paper\"},{\"font\":{\"color\":\"rgb(150,150,150)\",\"family\":\"Arial\",\"size\":12},\"showarrow\":false,\"text\":\"Source: Apple inc., & visualcapitalist\",\"x\":0.5,\"xanchor\":\"center\",\"xref\":\"paper\",\"y\":-0.1,\"yanchor\":\"top\",\"yref\":\"paper\"}]},                        {\"responsive\": true}                    ).then(function(){\n",
              "                            \n",
              "var gd = document.getElementById('82ef9066-3e72-45df-856c-a219010030cc');\n",
              "var x = new MutationObserver(function (mutations, observer) {{\n",
              "        var display = window.getComputedStyle(gd).display;\n",
              "        if (!display || display === 'none') {{\n",
              "            console.log([gd, 'removed!']);\n",
              "            Plotly.purge(gd);\n",
              "            observer.disconnect();\n",
              "        }}\n",
              "}});\n",
              "\n",
              "// Listen for the removal of the full notebook cells\n",
              "var notebookContainer = gd.closest('#notebook-container');\n",
              "if (notebookContainer) {{\n",
              "    x.observe(notebookContainer, {childList: true});\n",
              "}}\n",
              "\n",
              "// Listen for the clearing of the current output cell\n",
              "var outputEl = gd.closest('.output');\n",
              "if (outputEl) {{\n",
              "    x.observe(outputEl, {childList: true});\n",
              "}}\n",
              "\n",
              "                        })                };                });            </script>        </div>"
            ]
          },
          "metadata": {},
          "output_type": "display_data"
        }
      ],
      "source": [
        "import plotly.graph_objects as go\n",
        "\n",
        "title = 'Apple’s Product Revenue (2013-2023)'\n",
        "labels = ['iPhone', 'Accessories', 'Mac', 'iPad', 'iPod', 'Services']\n",
        "colors = ['rgb(67,67,67)', 'rgb(115,115,115)', 'rgb(49,130,189)', 'rgb(189,189,189)', 'rgb(255,0,0)', 'rgb(49,115,189)']\n",
        "\n",
        "mode_size = [12, 8, 8, 8, 8, 10]\n",
        "line_size = [4, 2, 2, 2, 2, 3]\n",
        "\n",
        "x_data = Apple.index  # ใช้ index เป็นแกน x\n",
        "y_data = Apple[['iPhone', 'Accessories', 'Mac', 'iPad', 'iPod', 'Services']]\n",
        "\n",
        "fig = go.Figure()\n",
        "\n",
        "for i in range(0, 6):\n",
        "    fig.add_trace(go.Scatter(x=x_data, y=y_data[labels[i]], mode='lines',\n",
        "        name=labels[i],\n",
        "        line=dict(color=colors[i], width=line_size[i]),\n",
        "        connectgaps=True,\n",
        "    ))\n",
        "\n",
        "    # endpoints\n",
        "    fig.add_trace(go.Scatter(\n",
        "        x=[x_data[0], x_data[-1]],\n",
        "        y=[y_data.iloc[0, i], y_data.iloc[-1, i]],  # เปลี่ยนเป็น y_data.iloc[0, i] เป็น y_data.iloc[0][i]\n",
        "        mode='markers',\n",
        "        marker=dict(color=colors[i], size=mode_size[i])\n",
        "    ))\n",
        "\n",
        "fig.update_layout(\n",
        "    xaxis=dict(\n",
        "        showline=True,\n",
        "        showgrid=False,\n",
        "        showticklabels=True,\n",
        "        linecolor='rgb(204, 204, 204)',\n",
        "        linewidth=2,\n",
        "        ticks='outside',\n",
        "        tickfont=dict(\n",
        "            family='Arial',\n",
        "            size=12,\n",
        "            color='rgb(82, 82, 82)',\n",
        "        ),\n",
        "    ),\n",
        "    yaxis=dict(\n",
        "        showgrid=False,\n",
        "        zeroline=False,\n",
        "        showline=False,\n",
        "        showticklabels=False,\n",
        "    ),\n",
        "    autosize=False,\n",
        "    margin=dict(\n",
        "        autoexpand=False,\n",
        "        l=100,\n",
        "        r=20,\n",
        "        t=110,\n",
        "    ),\n",
        "    showlegend=False,\n",
        "    plot_bgcolor='white'\n",
        ")\n",
        "\n",
        "annotations = []\n",
        "\n",
        "# Adding labels\n",
        "for label, color in zip(labels, colors):\n",
        "    # labeling the left_side of the plot\n",
        "    annotations.append(dict(xref='paper', x=0.05, y=y_data.iloc[0][labels.index(label)],  # เปลี่ยนเป็น y_data.iloc[0][labels.index(label)]\n",
        "                                  xanchor='right', yanchor='middle',\n",
        "                                  text=label + ' {}%'.format(y_data.iloc[0][labels.index(label)]),  # เปลี่ยนเป็น y_data.iloc[0][labels.index(label)]\n",
        "                                  font=dict(family='Arial',\n",
        "                                            size=12),\n",
        "                                  showarrow=False))\n",
        "    # labeling the right_side of the plot\n",
        "    annotations.append(dict(xref='paper', x=0.95, y=y_data.iloc[-1][labels.index(label)],  # เปลี่ยนเป็น y_data.iloc[-1][labels.index(label)]\n",
        "                                  xanchor='left', yanchor='middle',\n",
        "                                  text='{}%'.format(y_data.iloc[-1][labels.index(label)]),  # เปลี่ยนเป็น y_data.iloc[-1][labels.index(label)]\n",
        "                                  font=dict(family='Arial',\n",
        "                                            size=12),\n",
        "                                  showarrow=False))\n",
        "\n",
        "# Title\n",
        "annotations.append(dict(xref='paper', yref='paper', x=0.5, y=1.05,\n",
        "                              xanchor='center', yanchor='bottom',\n",
        "                              text=title,\n",
        "                              font=dict(family='Arial',\n",
        "                                        size=30,\n",
        "                                        color='rgb(37,37,37)'),\n",
        "                              showarrow=False))\n",
        "\n",
        "# Source\n",
        "annotations.append(dict(xref='paper', yref='paper', x=0.5, y=-0.1,\n",
        "                              xanchor='center', yanchor='top',\n",
        "                              text='Source: Apple inc., & visualcapitalist',\n",
        "                              font=dict(family='Arial',\n",
        "                                        size=12,\n",
        "                                        color='rgb(150,150,150)'),\n",
        "                              showarrow=False))\n",
        "\n",
        "fig.update_layout(annotations=annotations)\n",
        "\n",
        "fig.show()"
      ]
    },
    {
      "cell_type": "code",
      "execution_count": null,
      "id": "07f67a2e",
      "metadata": {
        "id": "07f67a2e",
        "outputId": "adbc6a70-4c64-48fc-e524-cdb1a420195e"
      },
      "outputs": [
        {
          "data": {
            "application/vnd.plotly.v1+json": {
              "config": {
                "plotlyServerURL": "https://plot.ly"
              },
              "data": [
                {
                  "name": "iPhone",
                  "type": "bar",
                  "x": [
                    2007,
                    2008,
                    2009,
                    2010,
                    2011,
                    2012,
                    2013,
                    2014,
                    2015,
                    2016,
                    2017,
                    2018,
                    2019,
                    2020,
                    2021,
                    2022,
                    2023
                  ],
                  "y": [
                    30.5,
                    38.7,
                    43.3,
                    51.5,
                    53.6,
                    55.7,
                    66.3,
                    63.3,
                    61.7,
                    62.8,
                    54.7,
                    50.2,
                    52.5,
                    52.1,
                    52.3
                  ]
                },
                {
                  "name": "Accessories",
                  "type": "bar",
                  "x": [
                    2007,
                    2008,
                    2009,
                    2010,
                    2011,
                    2012,
                    2013,
                    2014,
                    2015,
                    2016,
                    2017,
                    2018,
                    2019,
                    2020,
                    2021,
                    2022,
                    2023
                  ],
                  "y": [
                    3.3,
                    2.8,
                    2.1,
                    1.8,
                    3.3,
                    3.3,
                    4.3,
                    5.1,
                    5.6,
                    6.6,
                    9.4,
                    11.2,
                    10.5,
                    10.4,
                    10.4
                  ]
                },
                {
                  "name": "Mac",
                  "type": "bar",
                  "x": [
                    2007,
                    2008,
                    2009,
                    2010,
                    2011,
                    2012,
                    2013,
                    2014,
                    2015,
                    2016,
                    2017,
                    2018,
                    2019,
                    2020,
                    2021,
                    2022,
                    2023
                  ],
                  "y": [
                    32.4,
                    26.8,
                    20.1,
                    14.8,
                    12.6,
                    13.2,
                    10.9,
                    10.6,
                    11.3,
                    9.6,
                    9.9,
                    10.4,
                    9.6,
                    10.2,
                    7.6
                  ]
                },
                {
                  "name": "iPad",
                  "type": "bar",
                  "x": [
                    2007,
                    2008,
                    2009,
                    2010,
                    2011,
                    2012,
                    2013,
                    2014,
                    2015,
                    2016,
                    2017,
                    2018,
                    2019,
                    2020,
                    2021,
                    2022,
                    2023
                  ],
                  "y": [
                    0,
                    7.5,
                    18.8,
                    20.7,
                    18.6,
                    16.6,
                    9.9,
                    9.6,
                    8.4,
                    7.1,
                    8.2,
                    8.6,
                    8.7,
                    7.4,
                    7.4
                  ]
                },
                {
                  "name": "iPod",
                  "type": "bar",
                  "x": [
                    2007,
                    2008,
                    2009,
                    2010,
                    2011,
                    2012,
                    2013,
                    2014,
                    2015,
                    2016,
                    2017,
                    2018,
                    2019,
                    2020,
                    2021,
                    2022,
                    2023
                  ],
                  "y": [
                    18.8,
                    12.7,
                    6.8,
                    3.6,
                    2.6,
                    1.3,
                    0,
                    0,
                    0,
                    0,
                    0,
                    0,
                    0,
                    0,
                    0
                  ]
                },
                {
                  "name": "Services",
                  "type": "bar",
                  "x": [
                    2007,
                    2008,
                    2009,
                    2010,
                    2011,
                    2012,
                    2013,
                    2014,
                    2015,
                    2016,
                    2017,
                    2018,
                    2019,
                    2020,
                    2021,
                    2022,
                    2023
                  ],
                  "y": [
                    15,
                    11.5,
                    8.9,
                    7.6,
                    9.3,
                    9.9,
                    8.5,
                    11.4,
                    13.1,
                    14,
                    17.8,
                    19.6,
                    18.7,
                    19.8,
                    22.2
                  ]
                }
              ],
              "layout": {
                "barmode": "stack",
                "template": {
                  "data": {
                    "bar": [
                      {
                        "error_x": {
                          "color": "#2a3f5f"
                        },
                        "error_y": {
                          "color": "#2a3f5f"
                        },
                        "marker": {
                          "line": {
                            "color": "#E5ECF6",
                            "width": 0.5
                          },
                          "pattern": {
                            "fillmode": "overlay",
                            "size": 10,
                            "solidity": 0.2
                          }
                        },
                        "type": "bar"
                      }
                    ],
                    "barpolar": [
                      {
                        "marker": {
                          "line": {
                            "color": "#E5ECF6",
                            "width": 0.5
                          },
                          "pattern": {
                            "fillmode": "overlay",
                            "size": 10,
                            "solidity": 0.2
                          }
                        },
                        "type": "barpolar"
                      }
                    ],
                    "carpet": [
                      {
                        "aaxis": {
                          "endlinecolor": "#2a3f5f",
                          "gridcolor": "white",
                          "linecolor": "white",
                          "minorgridcolor": "white",
                          "startlinecolor": "#2a3f5f"
                        },
                        "baxis": {
                          "endlinecolor": "#2a3f5f",
                          "gridcolor": "white",
                          "linecolor": "white",
                          "minorgridcolor": "white",
                          "startlinecolor": "#2a3f5f"
                        },
                        "type": "carpet"
                      }
                    ],
                    "choropleth": [
                      {
                        "colorbar": {
                          "outlinewidth": 0,
                          "ticks": ""
                        },
                        "type": "choropleth"
                      }
                    ],
                    "contour": [
                      {
                        "colorbar": {
                          "outlinewidth": 0,
                          "ticks": ""
                        },
                        "colorscale": [
                          [
                            0,
                            "#0d0887"
                          ],
                          [
                            0.1111111111111111,
                            "#46039f"
                          ],
                          [
                            0.2222222222222222,
                            "#7201a8"
                          ],
                          [
                            0.3333333333333333,
                            "#9c179e"
                          ],
                          [
                            0.4444444444444444,
                            "#bd3786"
                          ],
                          [
                            0.5555555555555556,
                            "#d8576b"
                          ],
                          [
                            0.6666666666666666,
                            "#ed7953"
                          ],
                          [
                            0.7777777777777778,
                            "#fb9f3a"
                          ],
                          [
                            0.8888888888888888,
                            "#fdca26"
                          ],
                          [
                            1,
                            "#f0f921"
                          ]
                        ],
                        "type": "contour"
                      }
                    ],
                    "contourcarpet": [
                      {
                        "colorbar": {
                          "outlinewidth": 0,
                          "ticks": ""
                        },
                        "type": "contourcarpet"
                      }
                    ],
                    "heatmap": [
                      {
                        "colorbar": {
                          "outlinewidth": 0,
                          "ticks": ""
                        },
                        "colorscale": [
                          [
                            0,
                            "#0d0887"
                          ],
                          [
                            0.1111111111111111,
                            "#46039f"
                          ],
                          [
                            0.2222222222222222,
                            "#7201a8"
                          ],
                          [
                            0.3333333333333333,
                            "#9c179e"
                          ],
                          [
                            0.4444444444444444,
                            "#bd3786"
                          ],
                          [
                            0.5555555555555556,
                            "#d8576b"
                          ],
                          [
                            0.6666666666666666,
                            "#ed7953"
                          ],
                          [
                            0.7777777777777778,
                            "#fb9f3a"
                          ],
                          [
                            0.8888888888888888,
                            "#fdca26"
                          ],
                          [
                            1,
                            "#f0f921"
                          ]
                        ],
                        "type": "heatmap"
                      }
                    ],
                    "heatmapgl": [
                      {
                        "colorbar": {
                          "outlinewidth": 0,
                          "ticks": ""
                        },
                        "colorscale": [
                          [
                            0,
                            "#0d0887"
                          ],
                          [
                            0.1111111111111111,
                            "#46039f"
                          ],
                          [
                            0.2222222222222222,
                            "#7201a8"
                          ],
                          [
                            0.3333333333333333,
                            "#9c179e"
                          ],
                          [
                            0.4444444444444444,
                            "#bd3786"
                          ],
                          [
                            0.5555555555555556,
                            "#d8576b"
                          ],
                          [
                            0.6666666666666666,
                            "#ed7953"
                          ],
                          [
                            0.7777777777777778,
                            "#fb9f3a"
                          ],
                          [
                            0.8888888888888888,
                            "#fdca26"
                          ],
                          [
                            1,
                            "#f0f921"
                          ]
                        ],
                        "type": "heatmapgl"
                      }
                    ],
                    "histogram": [
                      {
                        "marker": {
                          "pattern": {
                            "fillmode": "overlay",
                            "size": 10,
                            "solidity": 0.2
                          }
                        },
                        "type": "histogram"
                      }
                    ],
                    "histogram2d": [
                      {
                        "colorbar": {
                          "outlinewidth": 0,
                          "ticks": ""
                        },
                        "colorscale": [
                          [
                            0,
                            "#0d0887"
                          ],
                          [
                            0.1111111111111111,
                            "#46039f"
                          ],
                          [
                            0.2222222222222222,
                            "#7201a8"
                          ],
                          [
                            0.3333333333333333,
                            "#9c179e"
                          ],
                          [
                            0.4444444444444444,
                            "#bd3786"
                          ],
                          [
                            0.5555555555555556,
                            "#d8576b"
                          ],
                          [
                            0.6666666666666666,
                            "#ed7953"
                          ],
                          [
                            0.7777777777777778,
                            "#fb9f3a"
                          ],
                          [
                            0.8888888888888888,
                            "#fdca26"
                          ],
                          [
                            1,
                            "#f0f921"
                          ]
                        ],
                        "type": "histogram2d"
                      }
                    ],
                    "histogram2dcontour": [
                      {
                        "colorbar": {
                          "outlinewidth": 0,
                          "ticks": ""
                        },
                        "colorscale": [
                          [
                            0,
                            "#0d0887"
                          ],
                          [
                            0.1111111111111111,
                            "#46039f"
                          ],
                          [
                            0.2222222222222222,
                            "#7201a8"
                          ],
                          [
                            0.3333333333333333,
                            "#9c179e"
                          ],
                          [
                            0.4444444444444444,
                            "#bd3786"
                          ],
                          [
                            0.5555555555555556,
                            "#d8576b"
                          ],
                          [
                            0.6666666666666666,
                            "#ed7953"
                          ],
                          [
                            0.7777777777777778,
                            "#fb9f3a"
                          ],
                          [
                            0.8888888888888888,
                            "#fdca26"
                          ],
                          [
                            1,
                            "#f0f921"
                          ]
                        ],
                        "type": "histogram2dcontour"
                      }
                    ],
                    "mesh3d": [
                      {
                        "colorbar": {
                          "outlinewidth": 0,
                          "ticks": ""
                        },
                        "type": "mesh3d"
                      }
                    ],
                    "parcoords": [
                      {
                        "line": {
                          "colorbar": {
                            "outlinewidth": 0,
                            "ticks": ""
                          }
                        },
                        "type": "parcoords"
                      }
                    ],
                    "pie": [
                      {
                        "automargin": true,
                        "type": "pie"
                      }
                    ],
                    "scatter": [
                      {
                        "fillpattern": {
                          "fillmode": "overlay",
                          "size": 10,
                          "solidity": 0.2
                        },
                        "type": "scatter"
                      }
                    ],
                    "scatter3d": [
                      {
                        "line": {
                          "colorbar": {
                            "outlinewidth": 0,
                            "ticks": ""
                          }
                        },
                        "marker": {
                          "colorbar": {
                            "outlinewidth": 0,
                            "ticks": ""
                          }
                        },
                        "type": "scatter3d"
                      }
                    ],
                    "scattercarpet": [
                      {
                        "marker": {
                          "colorbar": {
                            "outlinewidth": 0,
                            "ticks": ""
                          }
                        },
                        "type": "scattercarpet"
                      }
                    ],
                    "scattergeo": [
                      {
                        "marker": {
                          "colorbar": {
                            "outlinewidth": 0,
                            "ticks": ""
                          }
                        },
                        "type": "scattergeo"
                      }
                    ],
                    "scattergl": [
                      {
                        "marker": {
                          "colorbar": {
                            "outlinewidth": 0,
                            "ticks": ""
                          }
                        },
                        "type": "scattergl"
                      }
                    ],
                    "scattermapbox": [
                      {
                        "marker": {
                          "colorbar": {
                            "outlinewidth": 0,
                            "ticks": ""
                          }
                        },
                        "type": "scattermapbox"
                      }
                    ],
                    "scatterpolar": [
                      {
                        "marker": {
                          "colorbar": {
                            "outlinewidth": 0,
                            "ticks": ""
                          }
                        },
                        "type": "scatterpolar"
                      }
                    ],
                    "scatterpolargl": [
                      {
                        "marker": {
                          "colorbar": {
                            "outlinewidth": 0,
                            "ticks": ""
                          }
                        },
                        "type": "scatterpolargl"
                      }
                    ],
                    "scatterternary": [
                      {
                        "marker": {
                          "colorbar": {
                            "outlinewidth": 0,
                            "ticks": ""
                          }
                        },
                        "type": "scatterternary"
                      }
                    ],
                    "surface": [
                      {
                        "colorbar": {
                          "outlinewidth": 0,
                          "ticks": ""
                        },
                        "colorscale": [
                          [
                            0,
                            "#0d0887"
                          ],
                          [
                            0.1111111111111111,
                            "#46039f"
                          ],
                          [
                            0.2222222222222222,
                            "#7201a8"
                          ],
                          [
                            0.3333333333333333,
                            "#9c179e"
                          ],
                          [
                            0.4444444444444444,
                            "#bd3786"
                          ],
                          [
                            0.5555555555555556,
                            "#d8576b"
                          ],
                          [
                            0.6666666666666666,
                            "#ed7953"
                          ],
                          [
                            0.7777777777777778,
                            "#fb9f3a"
                          ],
                          [
                            0.8888888888888888,
                            "#fdca26"
                          ],
                          [
                            1,
                            "#f0f921"
                          ]
                        ],
                        "type": "surface"
                      }
                    ],
                    "table": [
                      {
                        "cells": {
                          "fill": {
                            "color": "#EBF0F8"
                          },
                          "line": {
                            "color": "white"
                          }
                        },
                        "header": {
                          "fill": {
                            "color": "#C8D4E3"
                          },
                          "line": {
                            "color": "white"
                          }
                        },
                        "type": "table"
                      }
                    ]
                  },
                  "layout": {
                    "annotationdefaults": {
                      "arrowcolor": "#2a3f5f",
                      "arrowhead": 0,
                      "arrowwidth": 1
                    },
                    "autotypenumbers": "strict",
                    "coloraxis": {
                      "colorbar": {
                        "outlinewidth": 0,
                        "ticks": ""
                      }
                    },
                    "colorscale": {
                      "diverging": [
                        [
                          0,
                          "#8e0152"
                        ],
                        [
                          0.1,
                          "#c51b7d"
                        ],
                        [
                          0.2,
                          "#de77ae"
                        ],
                        [
                          0.3,
                          "#f1b6da"
                        ],
                        [
                          0.4,
                          "#fde0ef"
                        ],
                        [
                          0.5,
                          "#f7f7f7"
                        ],
                        [
                          0.6,
                          "#e6f5d0"
                        ],
                        [
                          0.7,
                          "#b8e186"
                        ],
                        [
                          0.8,
                          "#7fbc41"
                        ],
                        [
                          0.9,
                          "#4d9221"
                        ],
                        [
                          1,
                          "#276419"
                        ]
                      ],
                      "sequential": [
                        [
                          0,
                          "#0d0887"
                        ],
                        [
                          0.1111111111111111,
                          "#46039f"
                        ],
                        [
                          0.2222222222222222,
                          "#7201a8"
                        ],
                        [
                          0.3333333333333333,
                          "#9c179e"
                        ],
                        [
                          0.4444444444444444,
                          "#bd3786"
                        ],
                        [
                          0.5555555555555556,
                          "#d8576b"
                        ],
                        [
                          0.6666666666666666,
                          "#ed7953"
                        ],
                        [
                          0.7777777777777778,
                          "#fb9f3a"
                        ],
                        [
                          0.8888888888888888,
                          "#fdca26"
                        ],
                        [
                          1,
                          "#f0f921"
                        ]
                      ],
                      "sequentialminus": [
                        [
                          0,
                          "#0d0887"
                        ],
                        [
                          0.1111111111111111,
                          "#46039f"
                        ],
                        [
                          0.2222222222222222,
                          "#7201a8"
                        ],
                        [
                          0.3333333333333333,
                          "#9c179e"
                        ],
                        [
                          0.4444444444444444,
                          "#bd3786"
                        ],
                        [
                          0.5555555555555556,
                          "#d8576b"
                        ],
                        [
                          0.6666666666666666,
                          "#ed7953"
                        ],
                        [
                          0.7777777777777778,
                          "#fb9f3a"
                        ],
                        [
                          0.8888888888888888,
                          "#fdca26"
                        ],
                        [
                          1,
                          "#f0f921"
                        ]
                      ]
                    },
                    "colorway": [
                      "#636efa",
                      "#EF553B",
                      "#00cc96",
                      "#ab63fa",
                      "#FFA15A",
                      "#19d3f3",
                      "#FF6692",
                      "#B6E880",
                      "#FF97FF",
                      "#FECB52"
                    ],
                    "font": {
                      "color": "#2a3f5f"
                    },
                    "geo": {
                      "bgcolor": "white",
                      "lakecolor": "white",
                      "landcolor": "#E5ECF6",
                      "showlakes": true,
                      "showland": true,
                      "subunitcolor": "white"
                    },
                    "hoverlabel": {
                      "align": "left"
                    },
                    "hovermode": "closest",
                    "mapbox": {
                      "style": "light"
                    },
                    "paper_bgcolor": "white",
                    "plot_bgcolor": "#E5ECF6",
                    "polar": {
                      "angularaxis": {
                        "gridcolor": "white",
                        "linecolor": "white",
                        "ticks": ""
                      },
                      "bgcolor": "#E5ECF6",
                      "radialaxis": {
                        "gridcolor": "white",
                        "linecolor": "white",
                        "ticks": ""
                      }
                    },
                    "scene": {
                      "xaxis": {
                        "backgroundcolor": "#E5ECF6",
                        "gridcolor": "white",
                        "gridwidth": 2,
                        "linecolor": "white",
                        "showbackground": true,
                        "ticks": "",
                        "zerolinecolor": "white"
                      },
                      "yaxis": {
                        "backgroundcolor": "#E5ECF6",
                        "gridcolor": "white",
                        "gridwidth": 2,
                        "linecolor": "white",
                        "showbackground": true,
                        "ticks": "",
                        "zerolinecolor": "white"
                      },
                      "zaxis": {
                        "backgroundcolor": "#E5ECF6",
                        "gridcolor": "white",
                        "gridwidth": 2,
                        "linecolor": "white",
                        "showbackground": true,
                        "ticks": "",
                        "zerolinecolor": "white"
                      }
                    },
                    "shapedefaults": {
                      "line": {
                        "color": "#2a3f5f"
                      }
                    },
                    "ternary": {
                      "aaxis": {
                        "gridcolor": "white",
                        "linecolor": "white",
                        "ticks": ""
                      },
                      "baxis": {
                        "gridcolor": "white",
                        "linecolor": "white",
                        "ticks": ""
                      },
                      "bgcolor": "#E5ECF6",
                      "caxis": {
                        "gridcolor": "white",
                        "linecolor": "white",
                        "ticks": ""
                      }
                    },
                    "title": {
                      "x": 0.05
                    },
                    "xaxis": {
                      "automargin": true,
                      "gridcolor": "white",
                      "linecolor": "white",
                      "ticks": "",
                      "title": {
                        "standoff": 15
                      },
                      "zerolinecolor": "white",
                      "zerolinewidth": 2
                    },
                    "yaxis": {
                      "automargin": true,
                      "gridcolor": "white",
                      "linecolor": "white",
                      "ticks": "",
                      "title": {
                        "standoff": 15
                      },
                      "zerolinecolor": "white",
                      "zerolinewidth": 2
                    }
                  }
                },
                "xaxis": {
                  "categoryorder": "total ascending"
                }
              }
            },
            "text/html": [
              "<div>                            <div id=\"51b831e0-f1ae-44c2-89ac-fd567104593b\" class=\"plotly-graph-div\" style=\"height:525px; width:100%;\"></div>            <script type=\"text/javascript\">                require([\"plotly\"], function(Plotly) {                    window.PLOTLYENV=window.PLOTLYENV || {};                                    if (document.getElementById(\"51b831e0-f1ae-44c2-89ac-fd567104593b\")) {                    Plotly.newPlot(                        \"51b831e0-f1ae-44c2-89ac-fd567104593b\",                        [{\"name\":\"iPhone\",\"x\":[2007,2008,2009,2010,2011,2012,2013,2014,2015,2016,2017,2018,2019,2020,2021,2022,2023],\"y\":[30.5,38.7,43.3,51.5,53.6,55.7,66.3,63.3,61.7,62.8,54.7,50.2,52.5,52.1,52.3],\"type\":\"bar\"},{\"name\":\"Accessories\",\"x\":[2007,2008,2009,2010,2011,2012,2013,2014,2015,2016,2017,2018,2019,2020,2021,2022,2023],\"y\":[3.3,2.8,2.1,1.8,3.3,3.3,4.3,5.1,5.6,6.6,9.4,11.2,10.5,10.4,10.4],\"type\":\"bar\"},{\"name\":\"Mac\",\"x\":[2007,2008,2009,2010,2011,2012,2013,2014,2015,2016,2017,2018,2019,2020,2021,2022,2023],\"y\":[32.4,26.8,20.1,14.8,12.6,13.2,10.9,10.6,11.3,9.6,9.9,10.4,9.6,10.2,7.6],\"type\":\"bar\"},{\"name\":\"iPad\",\"x\":[2007,2008,2009,2010,2011,2012,2013,2014,2015,2016,2017,2018,2019,2020,2021,2022,2023],\"y\":[0.0,7.5,18.8,20.7,18.6,16.6,9.9,9.6,8.4,7.1,8.2,8.6,8.7,7.4,7.4],\"type\":\"bar\"},{\"name\":\"iPod\",\"x\":[2007,2008,2009,2010,2011,2012,2013,2014,2015,2016,2017,2018,2019,2020,2021,2022,2023],\"y\":[18.8,12.7,6.8,3.6,2.6,1.3,0.0,0.0,0.0,0.0,0.0,0.0,0.0,0.0,0.0],\"type\":\"bar\"},{\"name\":\"Services\",\"x\":[2007,2008,2009,2010,2011,2012,2013,2014,2015,2016,2017,2018,2019,2020,2021,2022,2023],\"y\":[15.0,11.5,8.9,7.6,9.3,9.9,8.5,11.4,13.1,14.0,17.8,19.6,18.7,19.8,22.2],\"type\":\"bar\"}],                        {\"template\":{\"data\":{\"histogram2dcontour\":[{\"type\":\"histogram2dcontour\",\"colorbar\":{\"outlinewidth\":0,\"ticks\":\"\"},\"colorscale\":[[0.0,\"#0d0887\"],[0.1111111111111111,\"#46039f\"],[0.2222222222222222,\"#7201a8\"],[0.3333333333333333,\"#9c179e\"],[0.4444444444444444,\"#bd3786\"],[0.5555555555555556,\"#d8576b\"],[0.6666666666666666,\"#ed7953\"],[0.7777777777777778,\"#fb9f3a\"],[0.8888888888888888,\"#fdca26\"],[1.0,\"#f0f921\"]]}],\"choropleth\":[{\"type\":\"choropleth\",\"colorbar\":{\"outlinewidth\":0,\"ticks\":\"\"}}],\"histogram2d\":[{\"type\":\"histogram2d\",\"colorbar\":{\"outlinewidth\":0,\"ticks\":\"\"},\"colorscale\":[[0.0,\"#0d0887\"],[0.1111111111111111,\"#46039f\"],[0.2222222222222222,\"#7201a8\"],[0.3333333333333333,\"#9c179e\"],[0.4444444444444444,\"#bd3786\"],[0.5555555555555556,\"#d8576b\"],[0.6666666666666666,\"#ed7953\"],[0.7777777777777778,\"#fb9f3a\"],[0.8888888888888888,\"#fdca26\"],[1.0,\"#f0f921\"]]}],\"heatmap\":[{\"type\":\"heatmap\",\"colorbar\":{\"outlinewidth\":0,\"ticks\":\"\"},\"colorscale\":[[0.0,\"#0d0887\"],[0.1111111111111111,\"#46039f\"],[0.2222222222222222,\"#7201a8\"],[0.3333333333333333,\"#9c179e\"],[0.4444444444444444,\"#bd3786\"],[0.5555555555555556,\"#d8576b\"],[0.6666666666666666,\"#ed7953\"],[0.7777777777777778,\"#fb9f3a\"],[0.8888888888888888,\"#fdca26\"],[1.0,\"#f0f921\"]]}],\"heatmapgl\":[{\"type\":\"heatmapgl\",\"colorbar\":{\"outlinewidth\":0,\"ticks\":\"\"},\"colorscale\":[[0.0,\"#0d0887\"],[0.1111111111111111,\"#46039f\"],[0.2222222222222222,\"#7201a8\"],[0.3333333333333333,\"#9c179e\"],[0.4444444444444444,\"#bd3786\"],[0.5555555555555556,\"#d8576b\"],[0.6666666666666666,\"#ed7953\"],[0.7777777777777778,\"#fb9f3a\"],[0.8888888888888888,\"#fdca26\"],[1.0,\"#f0f921\"]]}],\"contourcarpet\":[{\"type\":\"contourcarpet\",\"colorbar\":{\"outlinewidth\":0,\"ticks\":\"\"}}],\"contour\":[{\"type\":\"contour\",\"colorbar\":{\"outlinewidth\":0,\"ticks\":\"\"},\"colorscale\":[[0.0,\"#0d0887\"],[0.1111111111111111,\"#46039f\"],[0.2222222222222222,\"#7201a8\"],[0.3333333333333333,\"#9c179e\"],[0.4444444444444444,\"#bd3786\"],[0.5555555555555556,\"#d8576b\"],[0.6666666666666666,\"#ed7953\"],[0.7777777777777778,\"#fb9f3a\"],[0.8888888888888888,\"#fdca26\"],[1.0,\"#f0f921\"]]}],\"surface\":[{\"type\":\"surface\",\"colorbar\":{\"outlinewidth\":0,\"ticks\":\"\"},\"colorscale\":[[0.0,\"#0d0887\"],[0.1111111111111111,\"#46039f\"],[0.2222222222222222,\"#7201a8\"],[0.3333333333333333,\"#9c179e\"],[0.4444444444444444,\"#bd3786\"],[0.5555555555555556,\"#d8576b\"],[0.6666666666666666,\"#ed7953\"],[0.7777777777777778,\"#fb9f3a\"],[0.8888888888888888,\"#fdca26\"],[1.0,\"#f0f921\"]]}],\"mesh3d\":[{\"type\":\"mesh3d\",\"colorbar\":{\"outlinewidth\":0,\"ticks\":\"\"}}],\"scatter\":[{\"fillpattern\":{\"fillmode\":\"overlay\",\"size\":10,\"solidity\":0.2},\"type\":\"scatter\"}],\"parcoords\":[{\"type\":\"parcoords\",\"line\":{\"colorbar\":{\"outlinewidth\":0,\"ticks\":\"\"}}}],\"scatterpolargl\":[{\"type\":\"scatterpolargl\",\"marker\":{\"colorbar\":{\"outlinewidth\":0,\"ticks\":\"\"}}}],\"bar\":[{\"error_x\":{\"color\":\"#2a3f5f\"},\"error_y\":{\"color\":\"#2a3f5f\"},\"marker\":{\"line\":{\"color\":\"#E5ECF6\",\"width\":0.5},\"pattern\":{\"fillmode\":\"overlay\",\"size\":10,\"solidity\":0.2}},\"type\":\"bar\"}],\"scattergeo\":[{\"type\":\"scattergeo\",\"marker\":{\"colorbar\":{\"outlinewidth\":0,\"ticks\":\"\"}}}],\"scatterpolar\":[{\"type\":\"scatterpolar\",\"marker\":{\"colorbar\":{\"outlinewidth\":0,\"ticks\":\"\"}}}],\"histogram\":[{\"marker\":{\"pattern\":{\"fillmode\":\"overlay\",\"size\":10,\"solidity\":0.2}},\"type\":\"histogram\"}],\"scattergl\":[{\"type\":\"scattergl\",\"marker\":{\"colorbar\":{\"outlinewidth\":0,\"ticks\":\"\"}}}],\"scatter3d\":[{\"type\":\"scatter3d\",\"line\":{\"colorbar\":{\"outlinewidth\":0,\"ticks\":\"\"}},\"marker\":{\"colorbar\":{\"outlinewidth\":0,\"ticks\":\"\"}}}],\"scattermapbox\":[{\"type\":\"scattermapbox\",\"marker\":{\"colorbar\":{\"outlinewidth\":0,\"ticks\":\"\"}}}],\"scatterternary\":[{\"type\":\"scatterternary\",\"marker\":{\"colorbar\":{\"outlinewidth\":0,\"ticks\":\"\"}}}],\"scattercarpet\":[{\"type\":\"scattercarpet\",\"marker\":{\"colorbar\":{\"outlinewidth\":0,\"ticks\":\"\"}}}],\"carpet\":[{\"aaxis\":{\"endlinecolor\":\"#2a3f5f\",\"gridcolor\":\"white\",\"linecolor\":\"white\",\"minorgridcolor\":\"white\",\"startlinecolor\":\"#2a3f5f\"},\"baxis\":{\"endlinecolor\":\"#2a3f5f\",\"gridcolor\":\"white\",\"linecolor\":\"white\",\"minorgridcolor\":\"white\",\"startlinecolor\":\"#2a3f5f\"},\"type\":\"carpet\"}],\"table\":[{\"cells\":{\"fill\":{\"color\":\"#EBF0F8\"},\"line\":{\"color\":\"white\"}},\"header\":{\"fill\":{\"color\":\"#C8D4E3\"},\"line\":{\"color\":\"white\"}},\"type\":\"table\"}],\"barpolar\":[{\"marker\":{\"line\":{\"color\":\"#E5ECF6\",\"width\":0.5},\"pattern\":{\"fillmode\":\"overlay\",\"size\":10,\"solidity\":0.2}},\"type\":\"barpolar\"}],\"pie\":[{\"automargin\":true,\"type\":\"pie\"}]},\"layout\":{\"autotypenumbers\":\"strict\",\"colorway\":[\"#636efa\",\"#EF553B\",\"#00cc96\",\"#ab63fa\",\"#FFA15A\",\"#19d3f3\",\"#FF6692\",\"#B6E880\",\"#FF97FF\",\"#FECB52\"],\"font\":{\"color\":\"#2a3f5f\"},\"hovermode\":\"closest\",\"hoverlabel\":{\"align\":\"left\"},\"paper_bgcolor\":\"white\",\"plot_bgcolor\":\"#E5ECF6\",\"polar\":{\"bgcolor\":\"#E5ECF6\",\"angularaxis\":{\"gridcolor\":\"white\",\"linecolor\":\"white\",\"ticks\":\"\"},\"radialaxis\":{\"gridcolor\":\"white\",\"linecolor\":\"white\",\"ticks\":\"\"}},\"ternary\":{\"bgcolor\":\"#E5ECF6\",\"aaxis\":{\"gridcolor\":\"white\",\"linecolor\":\"white\",\"ticks\":\"\"},\"baxis\":{\"gridcolor\":\"white\",\"linecolor\":\"white\",\"ticks\":\"\"},\"caxis\":{\"gridcolor\":\"white\",\"linecolor\":\"white\",\"ticks\":\"\"}},\"coloraxis\":{\"colorbar\":{\"outlinewidth\":0,\"ticks\":\"\"}},\"colorscale\":{\"sequential\":[[0.0,\"#0d0887\"],[0.1111111111111111,\"#46039f\"],[0.2222222222222222,\"#7201a8\"],[0.3333333333333333,\"#9c179e\"],[0.4444444444444444,\"#bd3786\"],[0.5555555555555556,\"#d8576b\"],[0.6666666666666666,\"#ed7953\"],[0.7777777777777778,\"#fb9f3a\"],[0.8888888888888888,\"#fdca26\"],[1.0,\"#f0f921\"]],\"sequentialminus\":[[0.0,\"#0d0887\"],[0.1111111111111111,\"#46039f\"],[0.2222222222222222,\"#7201a8\"],[0.3333333333333333,\"#9c179e\"],[0.4444444444444444,\"#bd3786\"],[0.5555555555555556,\"#d8576b\"],[0.6666666666666666,\"#ed7953\"],[0.7777777777777778,\"#fb9f3a\"],[0.8888888888888888,\"#fdca26\"],[1.0,\"#f0f921\"]],\"diverging\":[[0,\"#8e0152\"],[0.1,\"#c51b7d\"],[0.2,\"#de77ae\"],[0.3,\"#f1b6da\"],[0.4,\"#fde0ef\"],[0.5,\"#f7f7f7\"],[0.6,\"#e6f5d0\"],[0.7,\"#b8e186\"],[0.8,\"#7fbc41\"],[0.9,\"#4d9221\"],[1,\"#276419\"]]},\"xaxis\":{\"gridcolor\":\"white\",\"linecolor\":\"white\",\"ticks\":\"\",\"title\":{\"standoff\":15},\"zerolinecolor\":\"white\",\"automargin\":true,\"zerolinewidth\":2},\"yaxis\":{\"gridcolor\":\"white\",\"linecolor\":\"white\",\"ticks\":\"\",\"title\":{\"standoff\":15},\"zerolinecolor\":\"white\",\"automargin\":true,\"zerolinewidth\":2},\"scene\":{\"xaxis\":{\"backgroundcolor\":\"#E5ECF6\",\"gridcolor\":\"white\",\"linecolor\":\"white\",\"showbackground\":true,\"ticks\":\"\",\"zerolinecolor\":\"white\",\"gridwidth\":2},\"yaxis\":{\"backgroundcolor\":\"#E5ECF6\",\"gridcolor\":\"white\",\"linecolor\":\"white\",\"showbackground\":true,\"ticks\":\"\",\"zerolinecolor\":\"white\",\"gridwidth\":2},\"zaxis\":{\"backgroundcolor\":\"#E5ECF6\",\"gridcolor\":\"white\",\"linecolor\":\"white\",\"showbackground\":true,\"ticks\":\"\",\"zerolinecolor\":\"white\",\"gridwidth\":2}},\"shapedefaults\":{\"line\":{\"color\":\"#2a3f5f\"}},\"annotationdefaults\":{\"arrowcolor\":\"#2a3f5f\",\"arrowhead\":0,\"arrowwidth\":1},\"geo\":{\"bgcolor\":\"white\",\"landcolor\":\"#E5ECF6\",\"subunitcolor\":\"white\",\"showland\":true,\"showlakes\":true,\"lakecolor\":\"white\"},\"title\":{\"x\":0.05},\"mapbox\":{\"style\":\"light\"}}},\"barmode\":\"stack\",\"xaxis\":{\"categoryorder\":\"total ascending\"}},                        {\"responsive\": true}                    ).then(function(){\n",
              "                            \n",
              "var gd = document.getElementById('51b831e0-f1ae-44c2-89ac-fd567104593b');\n",
              "var x = new MutationObserver(function (mutations, observer) {{\n",
              "        var display = window.getComputedStyle(gd).display;\n",
              "        if (!display || display === 'none') {{\n",
              "            console.log([gd, 'removed!']);\n",
              "            Plotly.purge(gd);\n",
              "            observer.disconnect();\n",
              "        }}\n",
              "}});\n",
              "\n",
              "// Listen for the removal of the full notebook cells\n",
              "var notebookContainer = gd.closest('#notebook-container');\n",
              "if (notebookContainer) {{\n",
              "    x.observe(notebookContainer, {childList: true});\n",
              "}}\n",
              "\n",
              "// Listen for the clearing of the current output cell\n",
              "var outputEl = gd.closest('.output');\n",
              "if (outputEl) {{\n",
              "    x.observe(outputEl, {childList: true});\n",
              "}}\n",
              "\n",
              "                        })                };                });            </script>        </div>"
            ]
          },
          "metadata": {},
          "output_type": "display_data"
        }
      ],
      "source": [
        "import plotly.graph_objects as go\n",
        "\n",
        "x = df[\"Apple Revenue\"]\n",
        "fig = go.Figure(go.Bar(x=x, y=Apple['iPhone'], name='iPhone'))\n",
        "fig.add_trace(go.Bar(x=x, y=Apple['Accessories'], name= 'Accessories'))\n",
        "fig.add_trace(go.Bar(x=x, y=Apple['Mac'], name='Mac'))\n",
        "fig.add_trace(go.Bar(x=x, y=Apple['iPad'], name='iPad'))\n",
        "fig.add_trace(go.Bar(x=x, y=Apple['iPod'], name='iPod'))\n",
        "fig.add_trace(go.Bar(x=x, y=Apple['Services'], name='Services'))\n",
        "\n",
        "fig.update_layout(barmode='stack')\n",
        "fig.update_xaxes(categoryorder='total ascending')\n",
        "fig.show()"
      ]
    },
    {
      "cell_type": "code",
      "execution_count": null,
      "id": "88af0f29",
      "metadata": {
        "id": "88af0f29"
      },
      "outputs": [],
      "source": []
    }
  ],
  "metadata": {
    "kernelspec": {
      "display_name": "Python 3 (ipykernel)",
      "language": "python",
      "name": "python3"
    },
    "language_info": {
      "codemirror_mode": {
        "name": "ipython",
        "version": 3
      },
      "file_extension": ".py",
      "mimetype": "text/x-python",
      "name": "python",
      "nbconvert_exporter": "python",
      "pygments_lexer": "ipython3",
      "version": "3.9.7"
    },
    "colab": {
      "provenance": [],
      "include_colab_link": true
    }
  },
  "nbformat": 4,
  "nbformat_minor": 5
}